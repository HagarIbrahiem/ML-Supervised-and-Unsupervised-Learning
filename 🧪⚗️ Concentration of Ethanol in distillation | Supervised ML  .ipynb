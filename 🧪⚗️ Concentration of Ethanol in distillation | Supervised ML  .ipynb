{
 "cells": [
  {
   "cell_type": "code",
   "execution_count": 1,
   "id": "660107e3",
   "metadata": {
    "execution": {
     "iopub.execute_input": "2023-03-25T11:14:53.855526Z",
     "iopub.status.busy": "2023-03-25T11:14:53.854727Z",
     "iopub.status.idle": "2023-03-25T11:14:55.393056Z",
     "shell.execute_reply": "2023-03-25T11:14:55.391293Z"
    },
    "id": "XSntQL-sMS3d",
    "papermill": {
     "duration": 1.553876,
     "end_time": "2023-03-25T11:14:55.396877",
     "exception": false,
     "start_time": "2023-03-25T11:14:53.843001",
     "status": "completed"
    },
    "tags": []
   },
   "outputs": [],
   "source": [
    "import pandas as pd\n",
    "import numpy as np\n",
    "import seaborn as sns\n",
    "import matplotlib.pyplot as plt"
   ]
  },
  {
   "cell_type": "code",
   "execution_count": 2,
   "id": "c9e3b131",
   "metadata": {
    "execution": {
     "iopub.execute_input": "2023-03-25T11:14:55.415122Z",
     "iopub.status.busy": "2023-03-25T11:14:55.414628Z",
     "iopub.status.idle": "2023-03-25T11:14:55.521533Z",
     "shell.execute_reply": "2023-03-25T11:14:55.519225Z"
    },
    "id": "lIlqClYbQMg4",
    "outputId": "6e92ebf4-e623-4e86-ac77-e1fba52113e2",
    "papermill": {
     "duration": 0.119828,
     "end_time": "2023-03-25T11:14:55.524707",
     "exception": false,
     "start_time": "2023-03-25T11:14:55.404879",
     "status": "completed"
    },
    "tags": []
   },
   "outputs": [
    {
     "name": "stdout",
     "output_type": "stream",
     "text": [
      "/kaggle/input/distillation-column/dataset_distill.csv\n"
     ]
    },
    {
     "data": {
      "text/html": [
       "<div>\n",
       "<style scoped>\n",
       "    .dataframe tbody tr th:only-of-type {\n",
       "        vertical-align: middle;\n",
       "    }\n",
       "\n",
       "    .dataframe tbody tr th {\n",
       "        vertical-align: top;\n",
       "    }\n",
       "\n",
       "    .dataframe thead th {\n",
       "        text-align: right;\n",
       "    }\n",
       "</style>\n",
       "<table border=\"1\" class=\"dataframe\">\n",
       "  <thead>\n",
       "    <tr style=\"text-align: right;\">\n",
       "      <th></th>\n",
       "      <th>Pressure</th>\n",
       "      <th>T1</th>\n",
       "      <th>T2</th>\n",
       "      <th>T3</th>\n",
       "      <th>T4</th>\n",
       "      <th>T5</th>\n",
       "      <th>T6</th>\n",
       "      <th>T7</th>\n",
       "      <th>T8</th>\n",
       "      <th>T9</th>\n",
       "      <th>...</th>\n",
       "      <th>T11</th>\n",
       "      <th>T12</th>\n",
       "      <th>T13</th>\n",
       "      <th>T14</th>\n",
       "      <th>L</th>\n",
       "      <th>V</th>\n",
       "      <th>D</th>\n",
       "      <th>B</th>\n",
       "      <th>F</th>\n",
       "      <th>Ethanol concentration</th>\n",
       "    </tr>\n",
       "  </thead>\n",
       "  <tbody>\n",
       "    <tr>\n",
       "      <th>0</th>\n",
       "      <td>1.01</td>\n",
       "      <td>350.89</td>\n",
       "      <td>350.95</td>\n",
       "      <td>351.01</td>\n",
       "      <td>351.08</td>\n",
       "      <td>351.16</td>\n",
       "      <td>351.26</td>\n",
       "      <td>351.38</td>\n",
       "      <td>351.54</td>\n",
       "      <td>351.78</td>\n",
       "      <td>...</td>\n",
       "      <td>353.00</td>\n",
       "      <td>355.19</td>\n",
       "      <td>363.77</td>\n",
       "      <td>371.47</td>\n",
       "      <td>780</td>\n",
       "      <td>1040</td>\n",
       "      <td>260</td>\n",
       "      <td>340</td>\n",
       "      <td>600</td>\n",
       "      <td>0.82076</td>\n",
       "    </tr>\n",
       "    <tr>\n",
       "      <th>1</th>\n",
       "      <td>1.01</td>\n",
       "      <td>350.86</td>\n",
       "      <td>350.91</td>\n",
       "      <td>350.96</td>\n",
       "      <td>351.02</td>\n",
       "      <td>351.09</td>\n",
       "      <td>351.17</td>\n",
       "      <td>351.28</td>\n",
       "      <td>351.43</td>\n",
       "      <td>351.66</td>\n",
       "      <td>...</td>\n",
       "      <td>352.76</td>\n",
       "      <td>354.66</td>\n",
       "      <td>362.20</td>\n",
       "      <td>370.98</td>\n",
       "      <td>780</td>\n",
       "      <td>1040</td>\n",
       "      <td>260</td>\n",
       "      <td>340</td>\n",
       "      <td>600</td>\n",
       "      <td>0.83253</td>\n",
       "    </tr>\n",
       "  </tbody>\n",
       "</table>\n",
       "<p>2 rows × 21 columns</p>\n",
       "</div>"
      ],
      "text/plain": [
       "   Pressure      T1      T2      T3      T4      T5      T6      T7      T8  \\\n",
       "0      1.01  350.89  350.95  351.01  351.08  351.16  351.26  351.38  351.54   \n",
       "1      1.01  350.86  350.91  350.96  351.02  351.09  351.17  351.28  351.43   \n",
       "\n",
       "       T9  ...     T11     T12     T13     T14    L     V    D    B    F  \\\n",
       "0  351.78  ...  353.00  355.19  363.77  371.47  780  1040  260  340  600   \n",
       "1  351.66  ...  352.76  354.66  362.20  370.98  780  1040  260  340  600   \n",
       "\n",
       "   Ethanol concentration  \n",
       "0                0.82076  \n",
       "1                0.83253  \n",
       "\n",
       "[2 rows x 21 columns]"
      ]
     },
     "execution_count": 2,
     "metadata": {},
     "output_type": "execute_result"
    }
   ],
   "source": [
    "# df = pd.read_csv('dataset_distill.csv', sep = ';')\n",
    "# df.head(2)\n",
    "\n",
    "import os\n",
    "for dirname, _, filenames in os.walk('/kaggle/input'):\n",
    "    for filename in filenames:\n",
    "        print(os.path.join(dirname, filename))\n",
    "        \n",
    "df = pd.read_csv ('/kaggle/input/distillation-column/dataset_distill.csv', sep=';')\n",
    "df.head(2)\n"
   ]
  },
  {
   "cell_type": "code",
   "execution_count": 3,
   "id": "460a0993",
   "metadata": {
    "execution": {
     "iopub.execute_input": "2023-03-25T11:14:55.543872Z",
     "iopub.status.busy": "2023-03-25T11:14:55.542315Z",
     "iopub.status.idle": "2023-03-25T11:14:55.551709Z",
     "shell.execute_reply": "2023-03-25T11:14:55.549988Z"
    },
    "id": "ES1pEZ30RVyI",
    "outputId": "f1b9bda8-25f2-4ec1-c06b-3907acfcbef2",
    "papermill": {
     "duration": 0.022303,
     "end_time": "2023-03-25T11:14:55.554989",
     "exception": false,
     "start_time": "2023-03-25T11:14:55.532686",
     "status": "completed"
    },
    "tags": []
   },
   "outputs": [
    {
     "data": {
      "text/plain": [
       "(4408, 21)"
      ]
     },
     "execution_count": 3,
     "metadata": {},
     "output_type": "execute_result"
    }
   ],
   "source": [
    "df.shape"
   ]
  },
  {
   "cell_type": "code",
   "execution_count": 4,
   "id": "b7ab4434",
   "metadata": {
    "execution": {
     "iopub.execute_input": "2023-03-25T11:14:55.574635Z",
     "iopub.status.busy": "2023-03-25T11:14:55.573854Z",
     "iopub.status.idle": "2023-03-25T11:14:55.604549Z",
     "shell.execute_reply": "2023-03-25T11:14:55.602357Z"
    },
    "id": "IRTa5QdwQMiJ",
    "outputId": "ace6295a-95a7-4f22-f982-a0dd0f43a9ce",
    "papermill": {
     "duration": 0.044157,
     "end_time": "2023-03-25T11:14:55.607309",
     "exception": false,
     "start_time": "2023-03-25T11:14:55.563152",
     "status": "completed"
    },
    "tags": []
   },
   "outputs": [
    {
     "name": "stdout",
     "output_type": "stream",
     "text": [
      "<class 'pandas.core.frame.DataFrame'>\n",
      "RangeIndex: 4408 entries, 0 to 4407\n",
      "Data columns (total 21 columns):\n",
      " #   Column                 Non-Null Count  Dtype  \n",
      "---  ------                 --------------  -----  \n",
      " 0   Pressure               4408 non-null   float64\n",
      " 1   T1                     4408 non-null   float64\n",
      " 2   T2                     4408 non-null   float64\n",
      " 3   T3                     4408 non-null   float64\n",
      " 4   T4                     4408 non-null   float64\n",
      " 5   T5                     4408 non-null   float64\n",
      " 6   T6                     4408 non-null   float64\n",
      " 7   T7                     4408 non-null   float64\n",
      " 8   T8                     4408 non-null   float64\n",
      " 9   T9                     4408 non-null   float64\n",
      " 10  T10                    4408 non-null   float64\n",
      " 11  T11                    4408 non-null   float64\n",
      " 12  T12                    4408 non-null   float64\n",
      " 13  T13                    4408 non-null   float64\n",
      " 14  T14                    4408 non-null   float64\n",
      " 15  L                      4408 non-null   object \n",
      " 16  V                      4408 non-null   object \n",
      " 17  D                      4408 non-null   int64  \n",
      " 18  B                      4408 non-null   int64  \n",
      " 19  F                      4408 non-null   int64  \n",
      " 20  Ethanol concentration  4408 non-null   float64\n",
      "dtypes: float64(16), int64(3), object(2)\n",
      "memory usage: 723.3+ KB\n"
     ]
    }
   ],
   "source": [
    "df.info()"
   ]
  },
  {
   "cell_type": "code",
   "execution_count": 5,
   "id": "faa598ba",
   "metadata": {
    "execution": {
     "iopub.execute_input": "2023-03-25T11:14:55.625815Z",
     "iopub.status.busy": "2023-03-25T11:14:55.625348Z",
     "iopub.status.idle": "2023-03-25T11:14:55.637496Z",
     "shell.execute_reply": "2023-03-25T11:14:55.635962Z"
    },
    "id": "WYbRcP--QMnj",
    "outputId": "09949cf6-fb95-4b43-ef46-e17de2fe40bd",
    "papermill": {
     "duration": 0.025121,
     "end_time": "2023-03-25T11:14:55.640666",
     "exception": false,
     "start_time": "2023-03-25T11:14:55.615545",
     "status": "completed"
    },
    "tags": []
   },
   "outputs": [
    {
     "data": {
      "text/plain": [
       "780         1102\n",
       "450          586\n",
       "130          586\n",
       "1050         516\n",
       "1040         516\n",
       "22500        293\n",
       "75           293\n",
       "1,23E+08     258\n",
       "1400         258\n",
       "Name: L, dtype: int64"
      ]
     },
     "execution_count": 5,
     "metadata": {},
     "output_type": "execute_result"
    }
   ],
   "source": [
    "df[\"L\"].value_counts()"
   ]
  },
  {
   "cell_type": "code",
   "execution_count": 6,
   "id": "320825cb",
   "metadata": {
    "execution": {
     "iopub.execute_input": "2023-03-25T11:14:55.660906Z",
     "iopub.status.busy": "2023-03-25T11:14:55.659187Z",
     "iopub.status.idle": "2023-03-25T11:14:55.665824Z",
     "shell.execute_reply": "2023-03-25T11:14:55.664338Z"
    },
    "id": "HmpXqyIuQMmU",
    "papermill": {
     "duration": 0.01957,
     "end_time": "2023-03-25T11:14:55.668533",
     "exception": false,
     "start_time": "2023-03-25T11:14:55.648963",
     "status": "completed"
    },
    "tags": []
   },
   "outputs": [],
   "source": [
    "# ## Convert Datatype (object) to (int)\n",
    "# df[\"L\"] = df[\"L\"].astype(int )\n",
    "# df[\"V\"] = df[\"V\"].astype(int)"
   ]
  },
  {
   "cell_type": "code",
   "execution_count": 7,
   "id": "209cd135",
   "metadata": {
    "execution": {
     "iopub.execute_input": "2023-03-25T11:14:55.687537Z",
     "iopub.status.busy": "2023-03-25T11:14:55.687047Z",
     "iopub.status.idle": "2023-03-25T11:14:55.705922Z",
     "shell.execute_reply": "2023-03-25T11:14:55.703992Z"
    },
    "id": "OBtnz9PtTlNu",
    "papermill": {
     "duration": 0.032353,
     "end_time": "2023-03-25T11:14:55.709103",
     "exception": false,
     "start_time": "2023-03-25T11:14:55.676750",
     "status": "completed"
    },
    "tags": []
   },
   "outputs": [],
   "source": [
    "\n",
    "## handling (1,23E+08 ) value in (L , V)\n",
    "df['L'] = df['L'].apply(lambda x: int (float(x.split()[0].replace(',', ''))))\n",
    "df['V'] = df['V'].apply(lambda x: int (float (x.split()[0].replace(',', ''))))\n",
    "\n"
   ]
  },
  {
   "cell_type": "code",
   "execution_count": 8,
   "id": "bee042d6",
   "metadata": {
    "execution": {
     "iopub.execute_input": "2023-03-25T11:14:55.729154Z",
     "iopub.status.busy": "2023-03-25T11:14:55.728625Z",
     "iopub.status.idle": "2023-03-25T11:14:55.738843Z",
     "shell.execute_reply": "2023-03-25T11:14:55.737550Z"
    },
    "id": "Zy21r_DIQMsx",
    "outputId": "b7bc987b-664d-4958-c9dc-bc612e2b739c",
    "papermill": {
     "duration": 0.024491,
     "end_time": "2023-03-25T11:14:55.741602",
     "exception": false,
     "start_time": "2023-03-25T11:14:55.717111",
     "status": "completed"
    },
    "tags": []
   },
   "outputs": [
    {
     "data": {
      "text/plain": [
       "780            1102\n",
       "450             586\n",
       "130             586\n",
       "1050            516\n",
       "1040            516\n",
       "22500           293\n",
       "75              293\n",
       "12300000000     258\n",
       "1400            258\n",
       "Name: L, dtype: int64"
      ]
     },
     "execution_count": 8,
     "metadata": {},
     "output_type": "execute_result"
    }
   ],
   "source": [
    "df[\"L\"].value_counts()\n"
   ]
  },
  {
   "cell_type": "code",
   "execution_count": 9,
   "id": "78967361",
   "metadata": {
    "execution": {
     "iopub.execute_input": "2023-03-25T11:14:55.760085Z",
     "iopub.status.busy": "2023-03-25T11:14:55.759549Z",
     "iopub.status.idle": "2023-03-25T11:14:55.776997Z",
     "shell.execute_reply": "2023-03-25T11:14:55.775186Z"
    },
    "id": "yA_HE0kOQMwR",
    "outputId": "733a6ebe-6902-4f9b-94af-c4ba9997f177",
    "papermill": {
     "duration": 0.031358,
     "end_time": "2023-03-25T11:14:55.781196",
     "exception": false,
     "start_time": "2023-03-25T11:14:55.749838",
     "status": "completed"
    },
    "tags": []
   },
   "outputs": [
    {
     "name": "stdout",
     "output_type": "stream",
     "text": [
      "<class 'pandas.core.frame.DataFrame'>\n",
      "RangeIndex: 4408 entries, 0 to 4407\n",
      "Data columns (total 21 columns):\n",
      " #   Column                 Non-Null Count  Dtype  \n",
      "---  ------                 --------------  -----  \n",
      " 0   Pressure               4408 non-null   float64\n",
      " 1   T1                     4408 non-null   float64\n",
      " 2   T2                     4408 non-null   float64\n",
      " 3   T3                     4408 non-null   float64\n",
      " 4   T4                     4408 non-null   float64\n",
      " 5   T5                     4408 non-null   float64\n",
      " 6   T6                     4408 non-null   float64\n",
      " 7   T7                     4408 non-null   float64\n",
      " 8   T8                     4408 non-null   float64\n",
      " 9   T9                     4408 non-null   float64\n",
      " 10  T10                    4408 non-null   float64\n",
      " 11  T11                    4408 non-null   float64\n",
      " 12  T12                    4408 non-null   float64\n",
      " 13  T13                    4408 non-null   float64\n",
      " 14  T14                    4408 non-null   float64\n",
      " 15  L                      4408 non-null   int64  \n",
      " 16  V                      4408 non-null   int64  \n",
      " 17  D                      4408 non-null   int64  \n",
      " 18  B                      4408 non-null   int64  \n",
      " 19  F                      4408 non-null   int64  \n",
      " 20  Ethanol concentration  4408 non-null   float64\n",
      "dtypes: float64(16), int64(5)\n",
      "memory usage: 723.3 KB\n"
     ]
    }
   ],
   "source": [
    "df.info()\n",
    "## all features are numeric"
   ]
  },
  {
   "cell_type": "code",
   "execution_count": 10,
   "id": "75b1b46a",
   "metadata": {
    "execution": {
     "iopub.execute_input": "2023-03-25T11:14:55.801068Z",
     "iopub.status.busy": "2023-03-25T11:14:55.800580Z",
     "iopub.status.idle": "2023-03-25T11:14:55.811175Z",
     "shell.execute_reply": "2023-03-25T11:14:55.810194Z"
    },
    "id": "2TCBivBqV_pY",
    "outputId": "0977fb34-ba32-4acb-cb54-696a0b86ee34",
    "papermill": {
     "duration": 0.023623,
     "end_time": "2023-03-25T11:14:55.814193",
     "exception": false,
     "start_time": "2023-03-25T11:14:55.790570",
     "status": "completed"
    },
    "tags": []
   },
   "outputs": [
    {
     "data": {
      "text/plain": [
       "Pressure                 0\n",
       "T1                       0\n",
       "T2                       0\n",
       "T3                       0\n",
       "T4                       0\n",
       "T5                       0\n",
       "T6                       0\n",
       "T7                       0\n",
       "T8                       0\n",
       "T9                       0\n",
       "T10                      0\n",
       "T11                      0\n",
       "T12                      0\n",
       "T13                      0\n",
       "T14                      0\n",
       "L                        0\n",
       "V                        0\n",
       "D                        0\n",
       "B                        0\n",
       "F                        0\n",
       "Ethanol concentration    0\n",
       "dtype: int64"
      ]
     },
     "execution_count": 10,
     "metadata": {},
     "output_type": "execute_result"
    }
   ],
   "source": [
    "df.isnull().sum()"
   ]
  },
  {
   "cell_type": "code",
   "execution_count": 11,
   "id": "de4568b3",
   "metadata": {
    "execution": {
     "iopub.execute_input": "2023-03-25T11:14:55.833959Z",
     "iopub.status.busy": "2023-03-25T11:14:55.833134Z",
     "iopub.status.idle": "2023-03-25T11:14:55.920745Z",
     "shell.execute_reply": "2023-03-25T11:14:55.919404Z"
    },
    "id": "P3i6lYVhQMxg",
    "outputId": "a3ac45be-b13d-4f18-f72d-498acaf238aa",
    "papermill": {
     "duration": 0.100922,
     "end_time": "2023-03-25T11:14:55.923666",
     "exception": false,
     "start_time": "2023-03-25T11:14:55.822744",
     "status": "completed"
    },
    "tags": []
   },
   "outputs": [
    {
     "data": {
      "text/html": [
       "<div>\n",
       "<style scoped>\n",
       "    .dataframe tbody tr th:only-of-type {\n",
       "        vertical-align: middle;\n",
       "    }\n",
       "\n",
       "    .dataframe tbody tr th {\n",
       "        vertical-align: top;\n",
       "    }\n",
       "\n",
       "    .dataframe thead th {\n",
       "        text-align: right;\n",
       "    }\n",
       "</style>\n",
       "<table border=\"1\" class=\"dataframe\">\n",
       "  <thead>\n",
       "    <tr style=\"text-align: right;\">\n",
       "      <th></th>\n",
       "      <th>Pressure</th>\n",
       "      <th>T1</th>\n",
       "      <th>T2</th>\n",
       "      <th>T3</th>\n",
       "      <th>T4</th>\n",
       "      <th>T5</th>\n",
       "      <th>T6</th>\n",
       "      <th>T7</th>\n",
       "      <th>T8</th>\n",
       "      <th>T9</th>\n",
       "      <th>...</th>\n",
       "      <th>T11</th>\n",
       "      <th>T12</th>\n",
       "      <th>T13</th>\n",
       "      <th>T14</th>\n",
       "      <th>L</th>\n",
       "      <th>V</th>\n",
       "      <th>D</th>\n",
       "      <th>B</th>\n",
       "      <th>F</th>\n",
       "      <th>Ethanol concentration</th>\n",
       "    </tr>\n",
       "  </thead>\n",
       "  <tbody>\n",
       "    <tr>\n",
       "      <th>count</th>\n",
       "      <td>4408.00</td>\n",
       "      <td>4408.000000</td>\n",
       "      <td>4408.000000</td>\n",
       "      <td>4408.000000</td>\n",
       "      <td>4408.000000</td>\n",
       "      <td>4408.000000</td>\n",
       "      <td>4408.000000</td>\n",
       "      <td>4408.000000</td>\n",
       "      <td>4408.000000</td>\n",
       "      <td>4408.000000</td>\n",
       "      <td>...</td>\n",
       "      <td>4408.000000</td>\n",
       "      <td>4408.000000</td>\n",
       "      <td>4408.000000</td>\n",
       "      <td>4408.000000</td>\n",
       "      <td>4.408000e+03</td>\n",
       "      <td>4.408000e+03</td>\n",
       "      <td>4408.000000</td>\n",
       "      <td>4408.000000</td>\n",
       "      <td>4408.000000</td>\n",
       "      <td>4408.000000</td>\n",
       "    </tr>\n",
       "    <tr>\n",
       "      <th>mean</th>\n",
       "      <td>1.01</td>\n",
       "      <td>351.029049</td>\n",
       "      <td>351.409363</td>\n",
       "      <td>352.066202</td>\n",
       "      <td>352.828578</td>\n",
       "      <td>353.910204</td>\n",
       "      <td>355.214270</td>\n",
       "      <td>356.453975</td>\n",
       "      <td>357.539902</td>\n",
       "      <td>358.484004</td>\n",
       "      <td>...</td>\n",
       "      <td>360.048650</td>\n",
       "      <td>360.884025</td>\n",
       "      <td>364.367117</td>\n",
       "      <td>367.717250</td>\n",
       "      <td>7.199204e+08</td>\n",
       "      <td>7.199186e+09</td>\n",
       "      <td>251.823956</td>\n",
       "      <td>293.411978</td>\n",
       "      <td>545.235935</td>\n",
       "      <td>0.792205</td>\n",
       "    </tr>\n",
       "    <tr>\n",
       "      <th>std</th>\n",
       "      <td>0.00</td>\n",
       "      <td>0.334105</td>\n",
       "      <td>1.125225</td>\n",
       "      <td>2.671189</td>\n",
       "      <td>3.788418</td>\n",
       "      <td>4.986453</td>\n",
       "      <td>6.251028</td>\n",
       "      <td>7.119853</td>\n",
       "      <td>7.620257</td>\n",
       "      <td>7.882159</td>\n",
       "      <td>...</td>\n",
       "      <td>7.899189</td>\n",
       "      <td>7.604026</td>\n",
       "      <td>8.563034</td>\n",
       "      <td>6.639423</td>\n",
       "      <td>2.887664e+09</td>\n",
       "      <td>2.887664e+10</td>\n",
       "      <td>71.048000</td>\n",
       "      <td>108.550994</td>\n",
       "      <td>119.192840</td>\n",
       "      <td>0.076441</td>\n",
       "    </tr>\n",
       "    <tr>\n",
       "      <th>min</th>\n",
       "      <td>1.01</td>\n",
       "      <td>350.760000</td>\n",
       "      <td>350.770000</td>\n",
       "      <td>350.770000</td>\n",
       "      <td>350.790000</td>\n",
       "      <td>350.800000</td>\n",
       "      <td>350.820000</td>\n",
       "      <td>350.860000</td>\n",
       "      <td>350.910000</td>\n",
       "      <td>351.000000</td>\n",
       "      <td>...</td>\n",
       "      <td>351.500000</td>\n",
       "      <td>352.430000</td>\n",
       "      <td>353.150000</td>\n",
       "      <td>354.520000</td>\n",
       "      <td>7.500000e+01</td>\n",
       "      <td>2.250000e+02</td>\n",
       "      <td>150.000000</td>\n",
       "      <td>90.000000</td>\n",
       "      <td>350.000000</td>\n",
       "      <td>0.538190</td>\n",
       "    </tr>\n",
       "    <tr>\n",
       "      <th>25%</th>\n",
       "      <td>1.01</td>\n",
       "      <td>350.820000</td>\n",
       "      <td>350.860000</td>\n",
       "      <td>350.900000</td>\n",
       "      <td>350.950000</td>\n",
       "      <td>351.000000</td>\n",
       "      <td>351.070000</td>\n",
       "      <td>351.160000</td>\n",
       "      <td>351.280000</td>\n",
       "      <td>351.440000</td>\n",
       "      <td>...</td>\n",
       "      <td>352.220000</td>\n",
       "      <td>353.320000</td>\n",
       "      <td>354.750000</td>\n",
       "      <td>362.920000</td>\n",
       "      <td>4.500000e+02</td>\n",
       "      <td>6.000000e+02</td>\n",
       "      <td>150.000000</td>\n",
       "      <td>200.000000</td>\n",
       "      <td>350.000000</td>\n",
       "      <td>0.761890</td>\n",
       "    </tr>\n",
       "    <tr>\n",
       "      <th>50%</th>\n",
       "      <td>1.01</td>\n",
       "      <td>350.900000</td>\n",
       "      <td>350.990000</td>\n",
       "      <td>351.100000</td>\n",
       "      <td>351.260000</td>\n",
       "      <td>351.475000</td>\n",
       "      <td>351.840000</td>\n",
       "      <td>352.370000</td>\n",
       "      <td>352.930000</td>\n",
       "      <td>353.740000</td>\n",
       "      <td>...</td>\n",
       "      <td>356.785000</td>\n",
       "      <td>361.470000</td>\n",
       "      <td>370.745000</td>\n",
       "      <td>372.810000</td>\n",
       "      <td>7.800000e+02</td>\n",
       "      <td>1.040000e+03</td>\n",
       "      <td>260.000000</td>\n",
       "      <td>320.000000</td>\n",
       "      <td>600.000000</td>\n",
       "      <td>0.817520</td>\n",
       "    </tr>\n",
       "    <tr>\n",
       "      <th>75%</th>\n",
       "      <td>1.01</td>\n",
       "      <td>351.080000</td>\n",
       "      <td>351.390000</td>\n",
       "      <td>351.822500</td>\n",
       "      <td>352.410000</td>\n",
       "      <td>353.740000</td>\n",
       "      <td>356.867500</td>\n",
       "      <td>361.640000</td>\n",
       "      <td>364.750000</td>\n",
       "      <td>366.880000</td>\n",
       "      <td>...</td>\n",
       "      <td>367.522500</td>\n",
       "      <td>367.910000</td>\n",
       "      <td>372.440000</td>\n",
       "      <td>373.010000</td>\n",
       "      <td>1.050000e+03</td>\n",
       "      <td>1.400000e+03</td>\n",
       "      <td>260.000000</td>\n",
       "      <td>352.500000</td>\n",
       "      <td>600.000000</td>\n",
       "      <td>0.850280</td>\n",
       "    </tr>\n",
       "    <tr>\n",
       "      <th>max</th>\n",
       "      <td>1.01</td>\n",
       "      <td>352.320000</td>\n",
       "      <td>356.030000</td>\n",
       "      <td>364.970000</td>\n",
       "      <td>368.600000</td>\n",
       "      <td>369.060000</td>\n",
       "      <td>372.570000</td>\n",
       "      <td>372.970000</td>\n",
       "      <td>373.010000</td>\n",
       "      <td>373.010000</td>\n",
       "      <td>...</td>\n",
       "      <td>373.010000</td>\n",
       "      <td>373.010000</td>\n",
       "      <td>373.060000</td>\n",
       "      <td>373.070000</td>\n",
       "      <td>1.230000e+10</td>\n",
       "      <td>1.230000e+11</td>\n",
       "      <td>350.000000</td>\n",
       "      <td>450.000000</td>\n",
       "      <td>650.000000</td>\n",
       "      <td>0.891760</td>\n",
       "    </tr>\n",
       "  </tbody>\n",
       "</table>\n",
       "<p>8 rows × 21 columns</p>\n",
       "</div>"
      ],
      "text/plain": [
       "       Pressure           T1           T2           T3           T4  \\\n",
       "count   4408.00  4408.000000  4408.000000  4408.000000  4408.000000   \n",
       "mean       1.01   351.029049   351.409363   352.066202   352.828578   \n",
       "std        0.00     0.334105     1.125225     2.671189     3.788418   \n",
       "min        1.01   350.760000   350.770000   350.770000   350.790000   \n",
       "25%        1.01   350.820000   350.860000   350.900000   350.950000   \n",
       "50%        1.01   350.900000   350.990000   351.100000   351.260000   \n",
       "75%        1.01   351.080000   351.390000   351.822500   352.410000   \n",
       "max        1.01   352.320000   356.030000   364.970000   368.600000   \n",
       "\n",
       "                T5           T6           T7           T8           T9  ...  \\\n",
       "count  4408.000000  4408.000000  4408.000000  4408.000000  4408.000000  ...   \n",
       "mean    353.910204   355.214270   356.453975   357.539902   358.484004  ...   \n",
       "std       4.986453     6.251028     7.119853     7.620257     7.882159  ...   \n",
       "min     350.800000   350.820000   350.860000   350.910000   351.000000  ...   \n",
       "25%     351.000000   351.070000   351.160000   351.280000   351.440000  ...   \n",
       "50%     351.475000   351.840000   352.370000   352.930000   353.740000  ...   \n",
       "75%     353.740000   356.867500   361.640000   364.750000   366.880000  ...   \n",
       "max     369.060000   372.570000   372.970000   373.010000   373.010000  ...   \n",
       "\n",
       "               T11          T12          T13          T14             L  \\\n",
       "count  4408.000000  4408.000000  4408.000000  4408.000000  4.408000e+03   \n",
       "mean    360.048650   360.884025   364.367117   367.717250  7.199204e+08   \n",
       "std       7.899189     7.604026     8.563034     6.639423  2.887664e+09   \n",
       "min     351.500000   352.430000   353.150000   354.520000  7.500000e+01   \n",
       "25%     352.220000   353.320000   354.750000   362.920000  4.500000e+02   \n",
       "50%     356.785000   361.470000   370.745000   372.810000  7.800000e+02   \n",
       "75%     367.522500   367.910000   372.440000   373.010000  1.050000e+03   \n",
       "max     373.010000   373.010000   373.060000   373.070000  1.230000e+10   \n",
       "\n",
       "                  V            D            B            F  \\\n",
       "count  4.408000e+03  4408.000000  4408.000000  4408.000000   \n",
       "mean   7.199186e+09   251.823956   293.411978   545.235935   \n",
       "std    2.887664e+10    71.048000   108.550994   119.192840   \n",
       "min    2.250000e+02   150.000000    90.000000   350.000000   \n",
       "25%    6.000000e+02   150.000000   200.000000   350.000000   \n",
       "50%    1.040000e+03   260.000000   320.000000   600.000000   \n",
       "75%    1.400000e+03   260.000000   352.500000   600.000000   \n",
       "max    1.230000e+11   350.000000   450.000000   650.000000   \n",
       "\n",
       "       Ethanol concentration  \n",
       "count            4408.000000  \n",
       "mean                0.792205  \n",
       "std                 0.076441  \n",
       "min                 0.538190  \n",
       "25%                 0.761890  \n",
       "50%                 0.817520  \n",
       "75%                 0.850280  \n",
       "max                 0.891760  \n",
       "\n",
       "[8 rows x 21 columns]"
      ]
     },
     "execution_count": 11,
     "metadata": {},
     "output_type": "execute_result"
    }
   ],
   "source": [
    "df.describe()"
   ]
  },
  {
   "cell_type": "code",
   "execution_count": 12,
   "id": "891a6977",
   "metadata": {
    "execution": {
     "iopub.execute_input": "2023-03-25T11:14:55.945275Z",
     "iopub.status.busy": "2023-03-25T11:14:55.943925Z",
     "iopub.status.idle": "2023-03-25T11:14:56.347449Z",
     "shell.execute_reply": "2023-03-25T11:14:56.346373Z"
    },
    "id": "Ah7WOlZMaNlh",
    "outputId": "c4b381ed-ee2a-4bda-ff7b-f9a00d4f18d4",
    "papermill": {
     "duration": 0.417704,
     "end_time": "2023-03-25T11:14:56.350736",
     "exception": false,
     "start_time": "2023-03-25T11:14:55.933032",
     "status": "completed"
    },
    "tags": []
   },
   "outputs": [
    {
     "data": {
      "text/plain": [
       "<AxesSubplot:xlabel='Ethanol concentration', ylabel='Count'>"
      ]
     },
     "execution_count": 12,
     "metadata": {},
     "output_type": "execute_result"
    },
    {
     "data": {
      "image/png": "[encoded data removed]",
      "text/plain": [
       "<Figure size 640x480 with 1 Axes>"
      ]
     },
     "metadata": {},
     "output_type": "display_data"
    }
   ],
   "source": [
    "sns.histplot(df['Ethanol concentration'])"
   ]
  },
  {
   "cell_type": "code",
   "execution_count": 13,
   "id": "4e48fe36",
   "metadata": {
    "execution": {
     "iopub.execute_input": "2023-03-25T11:14:56.372888Z",
     "iopub.status.busy": "2023-03-25T11:14:56.371593Z",
     "iopub.status.idle": "2023-03-25T11:14:57.014525Z",
     "shell.execute_reply": "2023-03-25T11:14:57.013075Z"
    },
    "id": "xCRcyxqVQM2I",
    "outputId": "96d16185-b06a-4af1-8f0a-4a21695652b7",
    "papermill": {
     "duration": 0.657098,
     "end_time": "2023-03-25T11:14:57.017264",
     "exception": false,
     "start_time": "2023-03-25T11:14:56.360166",
     "status": "completed"
    },
    "tags": []
   },
   "outputs": [
    {
     "data": {
      "text/plain": [
       "<AxesSubplot:>"
      ]
     },
     "execution_count": 13,
     "metadata": {},
     "output_type": "execute_result"
    },
    {
     "data": {
      "image/png": "[encoded data removed]",
      "text/plain": [
       "<Figure size 640x480 with 1 Axes>"
      ]
     },
     "metadata": {},
     "output_type": "display_data"
    }
   ],
   "source": [
    "#Creating subplot of each column with its own scale\n",
    "df.boxplot()"
   ]
  },
  {
   "cell_type": "code",
   "execution_count": 14,
   "id": "4d26f9b6",
   "metadata": {
    "execution": {
     "iopub.execute_input": "2023-03-25T11:14:57.038594Z",
     "iopub.status.busy": "2023-03-25T11:14:57.038124Z",
     "iopub.status.idle": "2023-03-25T11:14:57.346217Z",
     "shell.execute_reply": "2023-03-25T11:14:57.344809Z"
    },
    "id": "zrd9ko7xQM3W",
    "outputId": "360e4724-936e-43d1-9e15-90a4f80a3b4b",
    "papermill": {
     "duration": 0.322377,
     "end_time": "2023-03-25T11:14:57.349297",
     "exception": false,
     "start_time": "2023-03-25T11:14:57.026920",
     "status": "completed"
    },
    "tags": []
   },
   "outputs": [
    {
     "data": {
      "text/plain": [
       "<AxesSubplot:>"
      ]
     },
     "execution_count": 14,
     "metadata": {},
     "output_type": "execute_result"
    },
    {
     "data": {
      "image/png": "[encoded data removed]",
      "text/plain": [
       "<Figure size 640x480 with 1 Axes>"
      ]
     },
     "metadata": {},
     "output_type": "display_data"
    }
   ],
   "source": [
    "#Creating subplot of each column with its own scale\n",
    "df[['L','V','D','B','F']].boxplot()"
   ]
  },
  {
   "cell_type": "code",
   "execution_count": 15,
   "id": "9cb0dc02",
   "metadata": {
    "execution": {
     "iopub.execute_input": "2023-03-25T11:14:57.375117Z",
     "iopub.status.busy": "2023-03-25T11:14:57.373356Z",
     "iopub.status.idle": "2023-03-25T11:14:57.660201Z",
     "shell.execute_reply": "2023-03-25T11:14:57.658568Z"
    },
    "id": "5ca1R7pqQM7t",
    "papermill": {
     "duration": 0.303921,
     "end_time": "2023-03-25T11:14:57.663835",
     "exception": false,
     "start_time": "2023-03-25T11:14:57.359914",
     "status": "completed"
    },
    "tags": []
   },
   "outputs": [],
   "source": [
    "##splitting data before Scaling to avoid Data leakage\n",
    "from sklearn.model_selection import train_test_split\n",
    "\n",
    "X = df.drop('Ethanol concentration' , axis=1)\n",
    "y = df[['Ethanol concentration']]\n",
    "X_train ,X_test, y_train , y_test = train_test_split(X, y , test_size=0.2, random_state=42)"
   ]
  },
  {
   "cell_type": "markdown",
   "id": "f3a2da29",
   "metadata": {
    "id": "H9lbbgF5ZR91",
    "papermill": {
     "duration": 0.010568,
     "end_time": "2023-03-25T11:14:57.685552",
     "exception": false,
     "start_time": "2023-03-25T11:14:57.674984",
     "status": "completed"
    },
    "tags": []
   },
   "source": [
    "###Scaling"
   ]
  },
  {
   "cell_type": "code",
   "execution_count": 16,
   "id": "ffca1aef",
   "metadata": {
    "execution": {
     "iopub.execute_input": "2023-03-25T11:14:57.708443Z",
     "iopub.status.busy": "2023-03-25T11:14:57.707948Z",
     "iopub.status.idle": "2023-03-25T11:14:57.724523Z",
     "shell.execute_reply": "2023-03-25T11:14:57.722776Z"
    },
    "id": "YZMdd_q-QM9J",
    "papermill": {
     "duration": 0.031967,
     "end_time": "2023-03-25T11:14:57.727969",
     "exception": false,
     "start_time": "2023-03-25T11:14:57.696002",
     "status": "completed"
    },
    "tags": []
   },
   "outputs": [],
   "source": [
    "from sklearn.preprocessing import MinMaxScaler\n",
    "\n",
    "_columns =  X_train.columns\n",
    "X_train = MinMaxScaler().fit_transform(X_train)\n",
    "X_train = pd.DataFrame(X_train, columns = _columns)"
   ]
  },
  {
   "cell_type": "code",
   "execution_count": 17,
   "id": "ca6ddf29",
   "metadata": {
    "execution": {
     "iopub.execute_input": "2023-03-25T11:14:57.751407Z",
     "iopub.status.busy": "2023-03-25T11:14:57.750901Z",
     "iopub.status.idle": "2023-03-25T11:14:58.337674Z",
     "shell.execute_reply": "2023-03-25T11:14:58.336626Z"
    },
    "id": "rbfccDeCQNA0",
    "outputId": "e542eb64-08ec-4328-8326-0b84da88c176",
    "papermill": {
     "duration": 0.60228,
     "end_time": "2023-03-25T11:14:58.340972",
     "exception": false,
     "start_time": "2023-03-25T11:14:57.738692",
     "status": "completed"
    },
    "tags": []
   },
   "outputs": [
    {
     "data": {
      "text/plain": [
       "<AxesSubplot:>"
      ]
     },
     "execution_count": 17,
     "metadata": {},
     "output_type": "execute_result"
    },
    {
     "data": {
      "image/png": "[encoded data removed]",
      "text/plain": [
       "<Figure size 640x480 with 1 Axes>"
      ]
     },
     "metadata": {},
     "output_type": "display_data"
    }
   ],
   "source": [
    "X_train.boxplot()"
   ]
  },
  {
   "cell_type": "markdown",
   "id": "52b295b3",
   "metadata": {
    "id": "udTSOC0YZV_H",
    "papermill": {
     "duration": 0.01288,
     "end_time": "2023-03-25T11:14:58.369943",
     "exception": false,
     "start_time": "2023-03-25T11:14:58.357063",
     "status": "completed"
    },
    "tags": []
   },
   "source": [
    "###Handle Outliers"
   ]
  },
  {
   "cell_type": "code",
   "execution_count": 18,
   "id": "a621a40d",
   "metadata": {
    "execution": {
     "iopub.execute_input": "2023-03-25T11:14:58.394773Z",
     "iopub.status.busy": "2023-03-25T11:14:58.394283Z",
     "iopub.status.idle": "2023-03-25T11:14:58.433673Z",
     "shell.execute_reply": "2023-03-25T11:14:58.432156Z"
    },
    "id": "rcvuTFhFQNCI",
    "papermill": {
     "duration": 0.055737,
     "end_time": "2023-03-25T11:14:58.436918",
     "exception": false,
     "start_time": "2023-03-25T11:14:58.381181",
     "status": "completed"
    },
    "tags": []
   },
   "outputs": [],
   "source": [
    "def Replace_outliers_Mean (_df , feature):\n",
    "  Q1 = _df[feature].quantile(0.25)\n",
    "  Q3 = _df[feature].quantile(0.75)\n",
    "  IQR = Q3 - Q1\n",
    "  whisker_width = 1.5\n",
    "  lower_whisker = Q1 -(whisker_width*IQR)\n",
    "  upper_whisker = Q3 + (whisker_width*IQR)\n",
    "  _df[feature] =np.where(_df[feature]>upper_whisker,_df[feature].mean(),np.where(_df[feature]<lower_whisker,_df[feature].mean(),_df[feature]))\n",
    "\n",
    "\n",
    "\n",
    "Replace_outliers_Mean(X_train, 'T1')\n",
    "Replace_outliers_Mean(X_train, 'T2')\n",
    "Replace_outliers_Mean(X_train, 'T3')\n",
    "Replace_outliers_Mean(X_train, 'T4')\n",
    "Replace_outliers_Mean(X_train, 'T5')\n",
    "Replace_outliers_Mean(X_train, 'T6')\n",
    "Replace_outliers_Mean(X_train, 'L')\n",
    "Replace_outliers_Mean(X_train, 'V')\n",
    "\n",
    "\n"
   ]
  },
  {
   "cell_type": "code",
   "execution_count": 19,
   "id": "f403668b",
   "metadata": {
    "execution": {
     "iopub.execute_input": "2023-03-25T11:14:58.462167Z",
     "iopub.status.busy": "2023-03-25T11:14:58.461690Z",
     "iopub.status.idle": "2023-03-25T11:14:59.227705Z",
     "shell.execute_reply": "2023-03-25T11:14:59.225970Z"
    },
    "id": "0jKvfOAdQNGQ",
    "outputId": "e5d7a1be-44c2-4baa-d5ab-12de8a2cf1fc",
    "papermill": {
     "duration": 0.783003,
     "end_time": "2023-03-25T11:14:59.231386",
     "exception": false,
     "start_time": "2023-03-25T11:14:58.448383",
     "status": "completed"
    },
    "tags": []
   },
   "outputs": [
    {
     "data": {
      "text/plain": [
       "<AxesSubplot:>"
      ]
     },
     "execution_count": 19,
     "metadata": {},
     "output_type": "execute_result"
    },
    {
     "data": {
      "image/png": "[encoded data removed]",
      "text/plain": [
       "<Figure size 640x480 with 1 Axes>"
      ]
     },
     "metadata": {},
     "output_type": "display_data"
    }
   ],
   "source": [
    "X_train.boxplot()"
   ]
  },
  {
   "cell_type": "markdown",
   "id": "2852fa48",
   "metadata": {
    "id": "aLeuVdjvaok5",
    "papermill": {
     "duration": 0.011827,
     "end_time": "2023-03-25T11:14:59.257011",
     "exception": false,
     "start_time": "2023-03-25T11:14:59.245184",
     "status": "completed"
    },
    "tags": []
   },
   "source": [
    "###Modeling"
   ]
  },
  {
   "cell_type": "code",
   "execution_count": 20,
   "id": "4ac18a26",
   "metadata": {
    "execution": {
     "iopub.execute_input": "2023-03-25T11:14:59.286258Z",
     "iopub.status.busy": "2023-03-25T11:14:59.284631Z",
     "iopub.status.idle": "2023-03-25T11:14:59.477621Z",
     "shell.execute_reply": "2023-03-25T11:14:59.475372Z"
    },
    "id": "PRovSL3dQNHa",
    "outputId": "e694a5aa-268b-42f7-b7fb-d8688352743c",
    "papermill": {
     "duration": 0.214224,
     "end_time": "2023-03-25T11:14:59.483639",
     "exception": false,
     "start_time": "2023-03-25T11:14:59.269415",
     "status": "completed"
    },
    "tags": []
   },
   "outputs": [
    {
     "name": "stdout",
     "output_type": "stream",
     "text": [
      "Mean Absolute Error: 0.02398502995561534\n"
     ]
    }
   ],
   "source": [
    "## LinearRegression \n",
    "from sklearn.linear_model import LinearRegression\n",
    "from sklearn.model_selection import cross_val_score\n",
    "\n",
    "LR = LinearRegression()\n",
    "LR_mae = cross_val_score(LR,X_train,y_train.values.ravel(), cv=3, scoring ='neg_mean_absolute_error')\n",
    "\n",
    "print('Mean Absolute Error: ' + str(LR_mae.mean()*-1))"
   ]
  },
  {
   "cell_type": "code",
   "execution_count": 21,
   "id": "d8114428",
   "metadata": {
    "execution": {
     "iopub.execute_input": "2023-03-25T11:14:59.549218Z",
     "iopub.status.busy": "2023-03-25T11:14:59.548346Z",
     "iopub.status.idle": "2023-03-25T11:14:59.753662Z",
     "shell.execute_reply": "2023-03-25T11:14:59.751703Z"
    },
    "id": "38CE_EHCQNLp",
    "outputId": "d618bfdb-d48a-4647-a6e4-5a190e1bb1b1",
    "papermill": {
     "duration": 0.243214,
     "end_time": "2023-03-25T11:14:59.756930",
     "exception": false,
     "start_time": "2023-03-25T11:14:59.513716",
     "status": "completed"
    },
    "tags": []
   },
   "outputs": [
    {
     "name": "stdout",
     "output_type": "stream",
     "text": [
      "svr_tuned_mae_avg: 0.07215517180902574\n"
     ]
    }
   ],
   "source": [
    "## SVR\n",
    "from sklearn.svm import SVR\n",
    "svr = SVR (kernel='poly', gamma=0.001,C= 0.1)\n",
    "\n",
    "svr_mae = cross_val_score(svr,X_train,y_train.values.ravel(), cv=3, scoring ='neg_mean_absolute_error')\n",
    "\n",
    "print('svr_tuned_mae_avg: ' + str(svr_mae.mean()*-1))"
   ]
  },
  {
   "cell_type": "markdown",
   "id": "8a74df61",
   "metadata": {
    "id": "gDtd2vPqdDIV",
    "papermill": {
     "duration": 0.011306,
     "end_time": "2023-03-25T11:14:59.780501",
     "exception": false,
     "start_time": "2023-03-25T11:14:59.769195",
     "status": "completed"
    },
    "tags": []
   },
   "source": [
    "###Output"
   ]
  },
  {
   "cell_type": "code",
   "execution_count": 22,
   "id": "378d9382",
   "metadata": {
    "execution": {
     "iopub.execute_input": "2023-03-25T11:14:59.806158Z",
     "iopub.status.busy": "2023-03-25T11:14:59.805644Z",
     "iopub.status.idle": "2023-03-25T11:14:59.915210Z",
     "shell.execute_reply": "2023-03-25T11:14:59.914136Z"
    },
    "id": "QyS2OMK0QNM2",
    "outputId": "6184214a-e4f4-47bb-af4b-30df1402dd40",
    "papermill": {
     "duration": 0.12556,
     "end_time": "2023-03-25T11:14:59.917892",
     "exception": false,
     "start_time": "2023-03-25T11:14:59.792332",
     "status": "completed"
    },
    "tags": []
   },
   "outputs": [
    {
     "name": "stderr",
     "output_type": "stream",
     "text": [
      "/opt/conda/lib/python3.7/site-packages/sklearn/utils/validation.py:993: DataConversionWarning: A column-vector y was passed when a 1d array was expected. Please change the shape of y to (n_samples, ), for example using ravel().\n",
      "  y = column_or_1d(y, warn=True)\n"
     ]
    }
   ],
   "source": [
    "svr.fit(X_train , y_train)\n",
    "y_pred= svr.predict(X_test)\n"
   ]
  },
  {
   "cell_type": "code",
   "execution_count": 23,
   "id": "816d791c",
   "metadata": {
    "execution": {
     "iopub.execute_input": "2023-03-25T11:14:59.944800Z",
     "iopub.status.busy": "2023-03-25T11:14:59.944003Z",
     "iopub.status.idle": "2023-03-25T11:14:59.955997Z",
     "shell.execute_reply": "2023-03-25T11:14:59.954369Z"
    },
    "id": "qyd29T9KQNRT",
    "outputId": "3cca3e58-ca0e-4b4e-fe99-28488eace264",
    "papermill": {
     "duration": 0.028492,
     "end_time": "2023-03-25T11:14:59.958823",
     "exception": false,
     "start_time": "2023-03-25T11:14:59.930331",
     "status": "completed"
    },
    "tags": []
   },
   "outputs": [
    {
     "data": {
      "text/plain": [
       "2.3283954392784218e+20"
      ]
     },
     "execution_count": 23,
     "metadata": {},
     "output_type": "execute_result"
    }
   ],
   "source": [
    "from sklearn.metrics import mean_absolute_error\n",
    "mean_absolute_error(y_test, y_pred)"
   ]
  },
  {
   "cell_type": "code",
   "execution_count": 24,
   "id": "e1d019e4",
   "metadata": {
    "execution": {
     "iopub.execute_input": "2023-03-25T11:14:59.987099Z",
     "iopub.status.busy": "2023-03-25T11:14:59.986621Z",
     "iopub.status.idle": "2023-03-25T11:15:00.003686Z",
     "shell.execute_reply": "2023-03-25T11:15:00.001832Z"
    },
    "id": "nfs5Y1-oQNSg",
    "papermill": {
     "duration": 0.03673,
     "end_time": "2023-03-25T11:15:00.008267",
     "exception": false,
     "start_time": "2023-03-25T11:14:59.971537",
     "status": "completed"
    },
    "tags": []
   },
   "outputs": [],
   "source": [
    "my_submission = pd.DataFrame({ 'Ethanol concentration': y_pred})\n",
    "# you could use any filename. We choose submission here\n",
    "my_submission.to_csv('/kaggle/working/Output.csv', index=False)\n"
   ]
  }
 ],
 "metadata": {
  "kernelspec": {
   "display_name": "Python 3",
   "language": "python",
   "name": "python3"
  },
  "language_info": {
   "codemirror_mode": {
    "name": "ipython",
    "version": 3
   },
   "file_extension": ".py",
   "mimetype": "text/x-python",
   "name": "python",
   "nbconvert_exporter": "python",
   "pygments_lexer": "ipython3",
   "version": "3.7.12"
  },
  "papermill": {
   "default_parameters": {},
   "duration": 21.042044,
   "end_time": "2023-03-25T11:15:02.247863",
   "environment_variables": {},
   "exception": null,
   "input_path": "__notebook__.ipynb",
   "output_path": "__notebook__.ipynb",
   "parameters": {},
   "start_time": "2023-03-25T11:14:41.205819",
   "version": "2.4.0"
  }
 },
 "nbformat": 4,
 "nbformat_minor": 5
}
