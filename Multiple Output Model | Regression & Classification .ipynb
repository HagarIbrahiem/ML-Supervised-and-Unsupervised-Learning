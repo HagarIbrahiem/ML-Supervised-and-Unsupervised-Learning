{
  "nbformat": 4,
  "nbformat_minor": 0,
  "metadata": {
    "colab": {
      "provenance": [],
      "authorship_tag": "ABX9TyOB5GOcmoNgi3/XfLwPdQ0/",
      "include_colab_link": true
    },
    "kernelspec": {
      "name": "python3",
      "display_name": "Python 3"
    },
    "language_info": {
      "name": "python"
    }
  },
  "cells": [
    {
      "cell_type": "markdown",
      "metadata": {
        "id": "view-in-github",
        "colab_type": "text"
      },
      "source": [
        "<a href=\"https://colab.research.google.com/github/HagarIbrahiem/ML-Supervised-and-Unsupervised-Learning/blob/main/Multiple%20Output%20Model%20%7C%20Regression%20%26%20Classification%20.ipynb\" target=\"_parent\"><img src=\"https://colab.research.google.com/assets/colab-badge.svg\" alt=\"Open In Colab\"/></a>"
      ]
    },
    {
      "cell_type": "markdown",
      "source": [
        "## Multiple Output Models using the Functional API"
      ],
      "metadata": {
        "id": "fEFW7gmIiRkb"
      }
    },
    {
      "cell_type": "markdown",
      "source": [
        "We are going to use the Keras functional API to train a model to predict two outputs.\n",
        "\n",
        "The goal is to  predict:\n",
        "- the wine quality, and\n",
        "- whether the wine is red or white"
      ],
      "metadata": {
        "id": "1T3ymOqdiWiX"
      }
    },
    {
      "cell_type": "markdown",
      "source": [
        "## Import Libs"
      ],
      "metadata": {
        "id": "EBogjlVieCC5"
      }
    },
    {
      "cell_type": "code",
      "execution_count": 3,
      "metadata": {
        "id": "dQLGFpxLdzV6"
      },
      "outputs": [],
      "source": [
        "import tensorflow as tf\n",
        "from tensorflow.keras.models import Model\n",
        "from tensorflow.keras.layers import Dense, Input\n",
        "\n",
        "import numpy as np\n",
        "import matplotlib.pyplot as plt\n",
        "import pandas as pd\n",
        "from sklearn.model_selection import train_test_split\n",
        "from sklearn.metrics import confusion_matrix, ConfusionMatrixDisplay\n",
        "import itertools\n"
      ]
    },
    {
      "cell_type": "markdown",
      "source": [
        "## Load Data"
      ],
      "metadata": {
        "id": "BHQHX-nJeX6Z"
      }
    },
    {
      "cell_type": "code",
      "source": [
        "# URL of the red wine dataset\n",
        "URI = './winequality.csv'\n",
        "# load the dataset from the URL\n",
        "df = pd.read_csv(URI, sep=\",\")\n",
        "df.head(2)"
      ],
      "metadata": {
        "colab": {
          "base_uri": "https://localhost:8080/",
          "height": 210
        },
        "id": "GpaWQ4fses5A",
        "outputId": "9c1b59ea-8b3e-4a36-f69e-33f52e22697e"
      },
      "execution_count": 4,
      "outputs": [
        {
          "output_type": "execute_result",
          "data": {
            "text/plain": [
              "   Unnamed: 0  fixed acidity  volatile acidity  citric acid  residual sugar  \\\n",
              "0           0            7.4              0.70          0.0             1.9   \n",
              "1           1            7.8              0.88          0.0             2.6   \n",
              "\n",
              "   chlorides  free sulfur dioxide  total sulfur dioxide  density    pH  \\\n",
              "0      0.076                 11.0                  34.0   0.9978  3.51   \n",
              "1      0.098                 25.0                  67.0   0.9968  3.20   \n",
              "\n",
              "   sulphates  alcohol  quality  is_red  \n",
              "0       0.56      9.4        5       1  \n",
              "1       0.68      9.8        5       1  "
            ],
            "text/html": [
              "\n",
              "  <div id=\"df-dd39ec22-9b7a-4cd1-99e4-cc61aca5a427\">\n",
              "    <div class=\"colab-df-container\">\n",
              "      <div>\n",
              "<style scoped>\n",
              "    .dataframe tbody tr th:only-of-type {\n",
              "        vertical-align: middle;\n",
              "    }\n",
              "\n",
              "    .dataframe tbody tr th {\n",
              "        vertical-align: top;\n",
              "    }\n",
              "\n",
              "    .dataframe thead th {\n",
              "        text-align: right;\n",
              "    }\n",
              "</style>\n",
              "<table border=\"1\" class=\"dataframe\">\n",
              "  <thead>\n",
              "    <tr style=\"text-align: right;\">\n",
              "      <th></th>\n",
              "      <th>Unnamed: 0</th>\n",
              "      <th>fixed acidity</th>\n",
              "      <th>volatile acidity</th>\n",
              "      <th>citric acid</th>\n",
              "      <th>residual sugar</th>\n",
              "      <th>chlorides</th>\n",
              "      <th>free sulfur dioxide</th>\n",
              "      <th>total sulfur dioxide</th>\n",
              "      <th>density</th>\n",
              "      <th>pH</th>\n",
              "      <th>sulphates</th>\n",
              "      <th>alcohol</th>\n",
              "      <th>quality</th>\n",
              "      <th>is_red</th>\n",
              "    </tr>\n",
              "  </thead>\n",
              "  <tbody>\n",
              "    <tr>\n",
              "      <th>0</th>\n",
              "      <td>0</td>\n",
              "      <td>7.4</td>\n",
              "      <td>0.70</td>\n",
              "      <td>0.0</td>\n",
              "      <td>1.9</td>\n",
              "      <td>0.076</td>\n",
              "      <td>11.0</td>\n",
              "      <td>34.0</td>\n",
              "      <td>0.9978</td>\n",
              "      <td>3.51</td>\n",
              "      <td>0.56</td>\n",
              "      <td>9.4</td>\n",
              "      <td>5</td>\n",
              "      <td>1</td>\n",
              "    </tr>\n",
              "    <tr>\n",
              "      <th>1</th>\n",
              "      <td>1</td>\n",
              "      <td>7.8</td>\n",
              "      <td>0.88</td>\n",
              "      <td>0.0</td>\n",
              "      <td>2.6</td>\n",
              "      <td>0.098</td>\n",
              "      <td>25.0</td>\n",
              "      <td>67.0</td>\n",
              "      <td>0.9968</td>\n",
              "      <td>3.20</td>\n",
              "      <td>0.68</td>\n",
              "      <td>9.8</td>\n",
              "      <td>5</td>\n",
              "      <td>1</td>\n",
              "    </tr>\n",
              "  </tbody>\n",
              "</table>\n",
              "</div>\n",
              "      <button class=\"colab-df-convert\" onclick=\"convertToInteractive('df-dd39ec22-9b7a-4cd1-99e4-cc61aca5a427')\"\n",
              "              title=\"Convert this dataframe to an interactive table.\"\n",
              "              style=\"display:none;\">\n",
              "        \n",
              "  <svg xmlns=\"http://www.w3.org/2000/svg\" height=\"24px\"viewBox=\"0 0 24 24\"\n",
              "       width=\"24px\">\n",
              "    <path d=\"M0 0h24v24H0V0z\" fill=\"none\"/>\n",
              "    <path d=\"M18.56 5.44l.94 2.06.94-2.06 2.06-.94-2.06-.94-.94-2.06-.94 2.06-2.06.94zm-11 1L8.5 8.5l.94-2.06 2.06-.94-2.06-.94L8.5 2.5l-.94 2.06-2.06.94zm10 10l.94 2.06.94-2.06 2.06-.94-2.06-.94-.94-2.06-.94 2.06-2.06.94z\"/><path d=\"M17.41 7.96l-1.37-1.37c-.4-.4-.92-.59-1.43-.59-.52 0-1.04.2-1.43.59L10.3 9.45l-7.72 7.72c-.78.78-.78 2.05 0 2.83L4 21.41c.39.39.9.59 1.41.59.51 0 1.02-.2 1.41-.59l7.78-7.78 2.81-2.81c.8-.78.8-2.07 0-2.86zM5.41 20L4 18.59l7.72-7.72 1.47 1.35L5.41 20z\"/>\n",
              "  </svg>\n",
              "      </button>\n",
              "      \n",
              "  <style>\n",
              "    .colab-df-container {\n",
              "      display:flex;\n",
              "      flex-wrap:wrap;\n",
              "      gap: 12px;\n",
              "    }\n",
              "\n",
              "    .colab-df-convert {\n",
              "      background-color: #E8F0FE;\n",
              "      border: none;\n",
              "      border-radius: 50%;\n",
              "      cursor: pointer;\n",
              "      display: none;\n",
              "      fill: #1967D2;\n",
              "      height: 32px;\n",
              "      padding: 0 0 0 0;\n",
              "      width: 32px;\n",
              "    }\n",
              "\n",
              "    .colab-df-convert:hover {\n",
              "      background-color: #E2EBFA;\n",
              "      box-shadow: 0px 1px 2px rgba(60, 64, 67, 0.3), 0px 1px 3px 1px rgba(60, 64, 67, 0.15);\n",
              "      fill: #174EA6;\n",
              "    }\n",
              "\n",
              "    [theme=dark] .colab-df-convert {\n",
              "      background-color: #3B4455;\n",
              "      fill: #D2E3FC;\n",
              "    }\n",
              "\n",
              "    [theme=dark] .colab-df-convert:hover {\n",
              "      background-color: #434B5C;\n",
              "      box-shadow: 0px 1px 3px 1px rgba(0, 0, 0, 0.15);\n",
              "      filter: drop-shadow(0px 1px 2px rgba(0, 0, 0, 0.3));\n",
              "      fill: #FFFFFF;\n",
              "    }\n",
              "  </style>\n",
              "\n",
              "      <script>\n",
              "        const buttonEl =\n",
              "          document.querySelector('#df-dd39ec22-9b7a-4cd1-99e4-cc61aca5a427 button.colab-df-convert');\n",
              "        buttonEl.style.display =\n",
              "          google.colab.kernel.accessAllowed ? 'block' : 'none';\n",
              "\n",
              "        async function convertToInteractive(key) {\n",
              "          const element = document.querySelector('#df-dd39ec22-9b7a-4cd1-99e4-cc61aca5a427');\n",
              "          const dataTable =\n",
              "            await google.colab.kernel.invokeFunction('convertToInteractive',\n",
              "                                                     [key], {});\n",
              "          if (!dataTable) return;\n",
              "\n",
              "          const docLinkHtml = 'Like what you see? Visit the ' +\n",
              "            '<a target=\"_blank\" href=https://colab.research.google.com/notebooks/data_table.ipynb>data table notebook</a>'\n",
              "            + ' to learn more about interactive tables.';\n",
              "          element.innerHTML = '';\n",
              "          dataTable['output_type'] = 'display_data';\n",
              "          await google.colab.output.renderOutput(dataTable, element);\n",
              "          const docLink = document.createElement('div');\n",
              "          docLink.innerHTML = docLinkHtml;\n",
              "          element.appendChild(docLink);\n",
              "        }\n",
              "      </script>\n",
              "    </div>\n",
              "  </div>\n",
              "  "
            ]
          },
          "metadata": {},
          "execution_count": 4
        }
      ]
    },
    {
      "cell_type": "code",
      "source": [
        "df.shape"
      ],
      "metadata": {
        "colab": {
          "base_uri": "https://localhost:8080/"
        },
        "id": "HW8aaF8xfV-Z",
        "outputId": "7ce60f48-6ff7-4cf3-ef02-3f95b40ea344"
      },
      "execution_count": 5,
      "outputs": [
        {
          "output_type": "execute_result",
          "data": {
            "text/plain": [
              "(5320, 14)"
            ]
          },
          "metadata": {},
          "execution_count": 5
        }
      ]
    },
    {
      "cell_type": "code",
      "source": [
        "df.columns"
      ],
      "metadata": {
        "colab": {
          "base_uri": "https://localhost:8080/"
        },
        "id": "QzVDOcl6e7sK",
        "outputId": "2ec3b80b-48d3-401d-f7e4-b65cc15959b4"
      },
      "execution_count": 6,
      "outputs": [
        {
          "output_type": "execute_result",
          "data": {
            "text/plain": [
              "Index(['Unnamed: 0', 'fixed acidity', 'volatile acidity', 'citric acid',\n",
              "       'residual sugar', 'chlorides', 'free sulfur dioxide',\n",
              "       'total sulfur dioxide', 'density', 'pH', 'sulphates', 'alcohol',\n",
              "       'quality', 'is_red'],\n",
              "      dtype='object')"
            ]
          },
          "metadata": {},
          "execution_count": 6
        }
      ]
    },
    {
      "cell_type": "code",
      "source": [
        "df.drop(columns=['Unnamed: 0'], inplace=True)\n",
        "df.head(2)"
      ],
      "metadata": {
        "colab": {
          "base_uri": "https://localhost:8080/",
          "height": 210
        },
        "id": "NZCATlN7ppaQ",
        "outputId": "0f3e30b5-c6a3-424d-a539-1b7d06957c45"
      },
      "execution_count": 7,
      "outputs": [
        {
          "output_type": "execute_result",
          "data": {
            "text/plain": [
              "   fixed acidity  volatile acidity  citric acid  residual sugar  chlorides  \\\n",
              "0            7.4              0.70          0.0             1.9      0.076   \n",
              "1            7.8              0.88          0.0             2.6      0.098   \n",
              "\n",
              "   free sulfur dioxide  total sulfur dioxide  density    pH  sulphates  \\\n",
              "0                 11.0                  34.0   0.9978  3.51       0.56   \n",
              "1                 25.0                  67.0   0.9968  3.20       0.68   \n",
              "\n",
              "   alcohol  quality  is_red  \n",
              "0      9.4        5       1  \n",
              "1      9.8        5       1  "
            ],
            "text/html": [
              "\n",
              "  <div id=\"df-0c8d9218-4f22-49f9-b459-bd538b88791c\">\n",
              "    <div class=\"colab-df-container\">\n",
              "      <div>\n",
              "<style scoped>\n",
              "    .dataframe tbody tr th:only-of-type {\n",
              "        vertical-align: middle;\n",
              "    }\n",
              "\n",
              "    .dataframe tbody tr th {\n",
              "        vertical-align: top;\n",
              "    }\n",
              "\n",
              "    .dataframe thead th {\n",
              "        text-align: right;\n",
              "    }\n",
              "</style>\n",
              "<table border=\"1\" class=\"dataframe\">\n",
              "  <thead>\n",
              "    <tr style=\"text-align: right;\">\n",
              "      <th></th>\n",
              "      <th>fixed acidity</th>\n",
              "      <th>volatile acidity</th>\n",
              "      <th>citric acid</th>\n",
              "      <th>residual sugar</th>\n",
              "      <th>chlorides</th>\n",
              "      <th>free sulfur dioxide</th>\n",
              "      <th>total sulfur dioxide</th>\n",
              "      <th>density</th>\n",
              "      <th>pH</th>\n",
              "      <th>sulphates</th>\n",
              "      <th>alcohol</th>\n",
              "      <th>quality</th>\n",
              "      <th>is_red</th>\n",
              "    </tr>\n",
              "  </thead>\n",
              "  <tbody>\n",
              "    <tr>\n",
              "      <th>0</th>\n",
              "      <td>7.4</td>\n",
              "      <td>0.70</td>\n",
              "      <td>0.0</td>\n",
              "      <td>1.9</td>\n",
              "      <td>0.076</td>\n",
              "      <td>11.0</td>\n",
              "      <td>34.0</td>\n",
              "      <td>0.9978</td>\n",
              "      <td>3.51</td>\n",
              "      <td>0.56</td>\n",
              "      <td>9.4</td>\n",
              "      <td>5</td>\n",
              "      <td>1</td>\n",
              "    </tr>\n",
              "    <tr>\n",
              "      <th>1</th>\n",
              "      <td>7.8</td>\n",
              "      <td>0.88</td>\n",
              "      <td>0.0</td>\n",
              "      <td>2.6</td>\n",
              "      <td>0.098</td>\n",
              "      <td>25.0</td>\n",
              "      <td>67.0</td>\n",
              "      <td>0.9968</td>\n",
              "      <td>3.20</td>\n",
              "      <td>0.68</td>\n",
              "      <td>9.8</td>\n",
              "      <td>5</td>\n",
              "      <td>1</td>\n",
              "    </tr>\n",
              "  </tbody>\n",
              "</table>\n",
              "</div>\n",
              "      <button class=\"colab-df-convert\" onclick=\"convertToInteractive('df-0c8d9218-4f22-49f9-b459-bd538b88791c')\"\n",
              "              title=\"Convert this dataframe to an interactive table.\"\n",
              "              style=\"display:none;\">\n",
              "        \n",
              "  <svg xmlns=\"http://www.w3.org/2000/svg\" height=\"24px\"viewBox=\"0 0 24 24\"\n",
              "       width=\"24px\">\n",
              "    <path d=\"M0 0h24v24H0V0z\" fill=\"none\"/>\n",
              "    <path d=\"M18.56 5.44l.94 2.06.94-2.06 2.06-.94-2.06-.94-.94-2.06-.94 2.06-2.06.94zm-11 1L8.5 8.5l.94-2.06 2.06-.94-2.06-.94L8.5 2.5l-.94 2.06-2.06.94zm10 10l.94 2.06.94-2.06 2.06-.94-2.06-.94-.94-2.06-.94 2.06-2.06.94z\"/><path d=\"M17.41 7.96l-1.37-1.37c-.4-.4-.92-.59-1.43-.59-.52 0-1.04.2-1.43.59L10.3 9.45l-7.72 7.72c-.78.78-.78 2.05 0 2.83L4 21.41c.39.39.9.59 1.41.59.51 0 1.02-.2 1.41-.59l7.78-7.78 2.81-2.81c.8-.78.8-2.07 0-2.86zM5.41 20L4 18.59l7.72-7.72 1.47 1.35L5.41 20z\"/>\n",
              "  </svg>\n",
              "      </button>\n",
              "      \n",
              "  <style>\n",
              "    .colab-df-container {\n",
              "      display:flex;\n",
              "      flex-wrap:wrap;\n",
              "      gap: 12px;\n",
              "    }\n",
              "\n",
              "    .colab-df-convert {\n",
              "      background-color: #E8F0FE;\n",
              "      border: none;\n",
              "      border-radius: 50%;\n",
              "      cursor: pointer;\n",
              "      display: none;\n",
              "      fill: #1967D2;\n",
              "      height: 32px;\n",
              "      padding: 0 0 0 0;\n",
              "      width: 32px;\n",
              "    }\n",
              "\n",
              "    .colab-df-convert:hover {\n",
              "      background-color: #E2EBFA;\n",
              "      box-shadow: 0px 1px 2px rgba(60, 64, 67, 0.3), 0px 1px 3px 1px rgba(60, 64, 67, 0.15);\n",
              "      fill: #174EA6;\n",
              "    }\n",
              "\n",
              "    [theme=dark] .colab-df-convert {\n",
              "      background-color: #3B4455;\n",
              "      fill: #D2E3FC;\n",
              "    }\n",
              "\n",
              "    [theme=dark] .colab-df-convert:hover {\n",
              "      background-color: #434B5C;\n",
              "      box-shadow: 0px 1px 3px 1px rgba(0, 0, 0, 0.15);\n",
              "      filter: drop-shadow(0px 1px 2px rgba(0, 0, 0, 0.3));\n",
              "      fill: #FFFFFF;\n",
              "    }\n",
              "  </style>\n",
              "\n",
              "      <script>\n",
              "        const buttonEl =\n",
              "          document.querySelector('#df-0c8d9218-4f22-49f9-b459-bd538b88791c button.colab-df-convert');\n",
              "        buttonEl.style.display =\n",
              "          google.colab.kernel.accessAllowed ? 'block' : 'none';\n",
              "\n",
              "        async function convertToInteractive(key) {\n",
              "          const element = document.querySelector('#df-0c8d9218-4f22-49f9-b459-bd538b88791c');\n",
              "          const dataTable =\n",
              "            await google.colab.kernel.invokeFunction('convertToInteractive',\n",
              "                                                     [key], {});\n",
              "          if (!dataTable) return;\n",
              "\n",
              "          const docLinkHtml = 'Like what you see? Visit the ' +\n",
              "            '<a target=\"_blank\" href=https://colab.research.google.com/notebooks/data_table.ipynb>data table notebook</a>'\n",
              "            + ' to learn more about interactive tables.';\n",
              "          element.innerHTML = '';\n",
              "          dataTable['output_type'] = 'display_data';\n",
              "          await google.colab.output.renderOutput(dataTable, element);\n",
              "          const docLink = document.createElement('div');\n",
              "          docLink.innerHTML = docLinkHtml;\n",
              "          element.appendChild(docLink);\n",
              "        }\n",
              "      </script>\n",
              "    </div>\n",
              "  </div>\n",
              "  "
            ]
          },
          "metadata": {},
          "execution_count": 7
        }
      ]
    },
    {
      "cell_type": "code",
      "source": [
        "# shuffle the data\n",
        "df = df.iloc[np.random.permutation(len(df))]"
      ],
      "metadata": {
        "id": "1LbiUz0PpXRV"
      },
      "execution_count": 8,
      "outputs": []
    },
    {
      "cell_type": "code",
      "source": [
        "\n",
        "# Distribution of Target Variable\n",
        "df['quality'].hist(bins=20);"
      ],
      "metadata": {
        "colab": {
          "base_uri": "https://localhost:8080/",
          "height": 430
        },
        "id": "cETMSiBqe4MR",
        "outputId": "6319c6fd-155b-46b1-861e-62a0a6d95f47"
      },
      "execution_count": 10,
      "outputs": [
        {
          "output_type": "display_data",
          "data": {
            "text/plain": [
              "<Figure size 640x480 with 1 Axes>"
            ],
            "image/png": "[encoded data removed]"
          },
          "metadata": {}
        }
      ]
    },
    {
      "cell_type": "markdown",
      "source": [
        "**P.S.**\n",
        "\n",
        "- The plot indictaes that the wine quality dataset is imbalanced, Since there are very few observations with quality equal to 3, 4, 8 and 9, so we can drop these observations from  dataset.\n",
        "- This can be done by removing data belonging to all classes except those > 4 and < 8."
      ],
      "metadata": {
        "id": "bG9aoXETJW3l"
      }
    },
    {
      "cell_type": "code",
      "source": [
        "\n",
        "# get data with wine quality greater than 4 and less than 8\n",
        "df = df[(df['quality'] > 4) & (df['quality'] < 8 )]\n",
        "\n",
        "# reset index and drop the old one\n",
        "df = df.reset_index(drop=True)"
      ],
      "metadata": {
        "id": "rdUrrt2BgjcC"
      },
      "execution_count": 11,
      "outputs": []
    },
    {
      "cell_type": "code",
      "source": [
        "df['quality'].hist(bins=20);"
      ],
      "metadata": {
        "colab": {
          "base_uri": "https://localhost:8080/",
          "height": 430
        },
        "id": "hcGJZczMJtd-",
        "outputId": "d18c0b70-553f-453d-a76e-b2fc1e484e8e"
      },
      "execution_count": 12,
      "outputs": [
        {
          "output_type": "display_data",
          "data": {
            "text/plain": [
              "<Figure size 640x480 with 1 Axes>"
            ],
            "image/png": "[encoded data removed]"
          },
          "metadata": {}
        }
      ]
    },
    {
      "cell_type": "markdown",
      "source": [
        "## Split Data"
      ],
      "metadata": {
        "id": "RT92Xv8xJ7XG"
      }
    },
    {
      "cell_type": "markdown",
      "source": [
        "- The data will be split 80:20 into train and test sets.\n",
        "- The train will also be split 80:20 into train and val sets."
      ],
      "metadata": {
        "id": "E4bxJrf9J9tC"
      }
    },
    {
      "cell_type": "code",
      "source": [
        "\n",
        "# split df into 80:20 train and test sets\n",
        "train, test = train_test_split(df, test_size=.20, random_state = 1)\n",
        "\n",
        "# split train into 80:20 train and val sets\n",
        "train, val = train_test_split(train, test_size=.20, random_state = 1)"
      ],
      "metadata": {
        "id": "lpcJa7wOJwdQ"
      },
      "execution_count": 13,
      "outputs": []
    },
    {
      "cell_type": "markdown",
      "source": [
        "**Explore Data**\n",
        "\n",
        "Here's where we can explore the training stats.\n",
        "- pop the labels 'is_red' and 'quality' from the data as these will be used as the labels"
      ],
      "metadata": {
        "id": "U6hrMXHYKSJm"
      }
    },
    {
      "cell_type": "code",
      "source": [
        "train_stats = train.describe()\n",
        "train_stats.pop('is_red')\n",
        "train_stats.pop('quality')\n",
        "train_stats = train_stats.transpose()\n",
        "train_stats"
      ],
      "metadata": {
        "colab": {
          "base_uri": "https://localhost:8080/",
          "height": 394
        },
        "id": "768Bdj5iKH-I",
        "outputId": "05576f9b-5a2b-437a-e4fa-dcd992ea7944"
      },
      "execution_count": 16,
      "outputs": [
        {
          "output_type": "execute_result",
          "data": {
            "text/plain": [
              "                       count        mean        std      min      25%  \\\n",
              "fixed acidity         3155.0    7.219635   1.347627  3.80000   6.4000   \n",
              "volatile acidity      3155.0    0.338845   0.162974  0.08000   0.2300   \n",
              "citric acid           3155.0    0.319448   0.144947  0.00000   0.2500   \n",
              "residual sugar        3155.0    5.049017   4.555675  0.60000   1.8000   \n",
              "chlorides             3155.0    0.056780   0.035669  0.00900   0.0380   \n",
              "free sulfur dioxide   3155.0   30.238827  17.286498  1.00000  17.0000   \n",
              "total sulfur dioxide  3155.0  114.248811  55.598133  6.00000  77.0000   \n",
              "density               3155.0    0.994561   0.003031  0.98711   0.9922   \n",
              "pH                    3155.0    3.223274   0.159747  2.72000   3.1100   \n",
              "sulphates             3155.0    0.533677   0.148488  0.22000   0.4400   \n",
              "alcohol               3155.0   10.530839   1.173765  8.00000   9.5000   \n",
              "\n",
              "                           50%       75%        max  \n",
              "fixed acidity           6.9000    7.7000   15.90000  \n",
              "volatile acidity        0.2900    0.4000    1.33000  \n",
              "citric acid             0.3100    0.3900    1.23000  \n",
              "residual sugar          2.7000    7.5000   65.80000  \n",
              "chlorides               0.0470    0.0670    0.61100  \n",
              "free sulfur dioxide    28.0000   41.0000  131.00000  \n",
              "total sulfur dioxide  117.0000  152.0000  344.00000  \n",
              "density                 0.9947    0.9968    1.03898  \n",
              "pH                      3.2100    3.3200    4.01000  \n",
              "sulphates               0.5100    0.6000    1.98000  \n",
              "alcohol                10.4000   11.3000   14.90000  "
            ],
            "text/html": [
              "\n",
              "  <div id=\"df-440f5ef4-2209-4860-b1c9-f977632da345\">\n",
              "    <div class=\"colab-df-container\">\n",
              "      <div>\n",
              "<style scoped>\n",
              "    .dataframe tbody tr th:only-of-type {\n",
              "        vertical-align: middle;\n",
              "    }\n",
              "\n",
              "    .dataframe tbody tr th {\n",
              "        vertical-align: top;\n",
              "    }\n",
              "\n",
              "    .dataframe thead th {\n",
              "        text-align: right;\n",
              "    }\n",
              "</style>\n",
              "<table border=\"1\" class=\"dataframe\">\n",
              "  <thead>\n",
              "    <tr style=\"text-align: right;\">\n",
              "      <th></th>\n",
              "      <th>count</th>\n",
              "      <th>mean</th>\n",
              "      <th>std</th>\n",
              "      <th>min</th>\n",
              "      <th>25%</th>\n",
              "      <th>50%</th>\n",
              "      <th>75%</th>\n",
              "      <th>max</th>\n",
              "    </tr>\n",
              "  </thead>\n",
              "  <tbody>\n",
              "    <tr>\n",
              "      <th>fixed acidity</th>\n",
              "      <td>3155.0</td>\n",
              "      <td>7.219635</td>\n",
              "      <td>1.347627</td>\n",
              "      <td>3.80000</td>\n",
              "      <td>6.4000</td>\n",
              "      <td>6.9000</td>\n",
              "      <td>7.7000</td>\n",
              "      <td>15.90000</td>\n",
              "    </tr>\n",
              "    <tr>\n",
              "      <th>volatile acidity</th>\n",
              "      <td>3155.0</td>\n",
              "      <td>0.338845</td>\n",
              "      <td>0.162974</td>\n",
              "      <td>0.08000</td>\n",
              "      <td>0.2300</td>\n",
              "      <td>0.2900</td>\n",
              "      <td>0.4000</td>\n",
              "      <td>1.33000</td>\n",
              "    </tr>\n",
              "    <tr>\n",
              "      <th>citric acid</th>\n",
              "      <td>3155.0</td>\n",
              "      <td>0.319448</td>\n",
              "      <td>0.144947</td>\n",
              "      <td>0.00000</td>\n",
              "      <td>0.2500</td>\n",
              "      <td>0.3100</td>\n",
              "      <td>0.3900</td>\n",
              "      <td>1.23000</td>\n",
              "    </tr>\n",
              "    <tr>\n",
              "      <th>residual sugar</th>\n",
              "      <td>3155.0</td>\n",
              "      <td>5.049017</td>\n",
              "      <td>4.555675</td>\n",
              "      <td>0.60000</td>\n",
              "      <td>1.8000</td>\n",
              "      <td>2.7000</td>\n",
              "      <td>7.5000</td>\n",
              "      <td>65.80000</td>\n",
              "    </tr>\n",
              "    <tr>\n",
              "      <th>chlorides</th>\n",
              "      <td>3155.0</td>\n",
              "      <td>0.056780</td>\n",
              "      <td>0.035669</td>\n",
              "      <td>0.00900</td>\n",
              "      <td>0.0380</td>\n",
              "      <td>0.0470</td>\n",
              "      <td>0.0670</td>\n",
              "      <td>0.61100</td>\n",
              "    </tr>\n",
              "    <tr>\n",
              "      <th>free sulfur dioxide</th>\n",
              "      <td>3155.0</td>\n",
              "      <td>30.238827</td>\n",
              "      <td>17.286498</td>\n",
              "      <td>1.00000</td>\n",
              "      <td>17.0000</td>\n",
              "      <td>28.0000</td>\n",
              "      <td>41.0000</td>\n",
              "      <td>131.00000</td>\n",
              "    </tr>\n",
              "    <tr>\n",
              "      <th>total sulfur dioxide</th>\n",
              "      <td>3155.0</td>\n",
              "      <td>114.248811</td>\n",
              "      <td>55.598133</td>\n",
              "      <td>6.00000</td>\n",
              "      <td>77.0000</td>\n",
              "      <td>117.0000</td>\n",
              "      <td>152.0000</td>\n",
              "      <td>344.00000</td>\n",
              "    </tr>\n",
              "    <tr>\n",
              "      <th>density</th>\n",
              "      <td>3155.0</td>\n",
              "      <td>0.994561</td>\n",
              "      <td>0.003031</td>\n",
              "      <td>0.98711</td>\n",
              "      <td>0.9922</td>\n",
              "      <td>0.9947</td>\n",
              "      <td>0.9968</td>\n",
              "      <td>1.03898</td>\n",
              "    </tr>\n",
              "    <tr>\n",
              "      <th>pH</th>\n",
              "      <td>3155.0</td>\n",
              "      <td>3.223274</td>\n",
              "      <td>0.159747</td>\n",
              "      <td>2.72000</td>\n",
              "      <td>3.1100</td>\n",
              "      <td>3.2100</td>\n",
              "      <td>3.3200</td>\n",
              "      <td>4.01000</td>\n",
              "    </tr>\n",
              "    <tr>\n",
              "      <th>sulphates</th>\n",
              "      <td>3155.0</td>\n",
              "      <td>0.533677</td>\n",
              "      <td>0.148488</td>\n",
              "      <td>0.22000</td>\n",
              "      <td>0.4400</td>\n",
              "      <td>0.5100</td>\n",
              "      <td>0.6000</td>\n",
              "      <td>1.98000</td>\n",
              "    </tr>\n",
              "    <tr>\n",
              "      <th>alcohol</th>\n",
              "      <td>3155.0</td>\n",
              "      <td>10.530839</td>\n",
              "      <td>1.173765</td>\n",
              "      <td>8.00000</td>\n",
              "      <td>9.5000</td>\n",
              "      <td>10.4000</td>\n",
              "      <td>11.3000</td>\n",
              "      <td>14.90000</td>\n",
              "    </tr>\n",
              "  </tbody>\n",
              "</table>\n",
              "</div>\n",
              "      <button class=\"colab-df-convert\" onclick=\"convertToInteractive('df-440f5ef4-2209-4860-b1c9-f977632da345')\"\n",
              "              title=\"Convert this dataframe to an interactive table.\"\n",
              "              style=\"display:none;\">\n",
              "        \n",
              "  <svg xmlns=\"http://www.w3.org/2000/svg\" height=\"24px\"viewBox=\"0 0 24 24\"\n",
              "       width=\"24px\">\n",
              "    <path d=\"M0 0h24v24H0V0z\" fill=\"none\"/>\n",
              "    <path d=\"M18.56 5.44l.94 2.06.94-2.06 2.06-.94-2.06-.94-.94-2.06-.94 2.06-2.06.94zm-11 1L8.5 8.5l.94-2.06 2.06-.94-2.06-.94L8.5 2.5l-.94 2.06-2.06.94zm10 10l.94 2.06.94-2.06 2.06-.94-2.06-.94-.94-2.06-.94 2.06-2.06.94z\"/><path d=\"M17.41 7.96l-1.37-1.37c-.4-.4-.92-.59-1.43-.59-.52 0-1.04.2-1.43.59L10.3 9.45l-7.72 7.72c-.78.78-.78 2.05 0 2.83L4 21.41c.39.39.9.59 1.41.59.51 0 1.02-.2 1.41-.59l7.78-7.78 2.81-2.81c.8-.78.8-2.07 0-2.86zM5.41 20L4 18.59l7.72-7.72 1.47 1.35L5.41 20z\"/>\n",
              "  </svg>\n",
              "      </button>\n",
              "      \n",
              "  <style>\n",
              "    .colab-df-container {\n",
              "      display:flex;\n",
              "      flex-wrap:wrap;\n",
              "      gap: 12px;\n",
              "    }\n",
              "\n",
              "    .colab-df-convert {\n",
              "      background-color: #E8F0FE;\n",
              "      border: none;\n",
              "      border-radius: 50%;\n",
              "      cursor: pointer;\n",
              "      display: none;\n",
              "      fill: #1967D2;\n",
              "      height: 32px;\n",
              "      padding: 0 0 0 0;\n",
              "      width: 32px;\n",
              "    }\n",
              "\n",
              "    .colab-df-convert:hover {\n",
              "      background-color: #E2EBFA;\n",
              "      box-shadow: 0px 1px 2px rgba(60, 64, 67, 0.3), 0px 1px 3px 1px rgba(60, 64, 67, 0.15);\n",
              "      fill: #174EA6;\n",
              "    }\n",
              "\n",
              "    [theme=dark] .colab-df-convert {\n",
              "      background-color: #3B4455;\n",
              "      fill: #D2E3FC;\n",
              "    }\n",
              "\n",
              "    [theme=dark] .colab-df-convert:hover {\n",
              "      background-color: #434B5C;\n",
              "      box-shadow: 0px 1px 3px 1px rgba(0, 0, 0, 0.15);\n",
              "      filter: drop-shadow(0px 1px 2px rgba(0, 0, 0, 0.3));\n",
              "      fill: #FFFFFF;\n",
              "    }\n",
              "  </style>\n",
              "\n",
              "      <script>\n",
              "        const buttonEl =\n",
              "          document.querySelector('#df-440f5ef4-2209-4860-b1c9-f977632da345 button.colab-df-convert');\n",
              "        buttonEl.style.display =\n",
              "          google.colab.kernel.accessAllowed ? 'block' : 'none';\n",
              "\n",
              "        async function convertToInteractive(key) {\n",
              "          const element = document.querySelector('#df-440f5ef4-2209-4860-b1c9-f977632da345');\n",
              "          const dataTable =\n",
              "            await google.colab.kernel.invokeFunction('convertToInteractive',\n",
              "                                                     [key], {});\n",
              "          if (!dataTable) return;\n",
              "\n",
              "          const docLinkHtml = 'Like what you see? Visit the ' +\n",
              "            '<a target=\"_blank\" href=https://colab.research.google.com/notebooks/data_table.ipynb>data table notebook</a>'\n",
              "            + ' to learn more about interactive tables.';\n",
              "          element.innerHTML = '';\n",
              "          dataTable['output_type'] = 'display_data';\n",
              "          await google.colab.output.renderOutput(dataTable, element);\n",
              "          const docLink = document.createElement('div');\n",
              "          docLink.innerHTML = docLinkHtml;\n",
              "          element.appendChild(docLink);\n",
              "        }\n",
              "      </script>\n",
              "    </div>\n",
              "  </div>\n",
              "  "
            ]
          },
          "metadata": {},
          "execution_count": 16
        }
      ]
    },
    {
      "cell_type": "markdown",
      "source": [
        "using `format_output` function in order to seprate target features `is_red` and `quality` from the dataset"
      ],
      "metadata": {
        "id": "QoKNew2SKwFD"
      }
    },
    {
      "cell_type": "code",
      "source": [
        "def format_output(data):\n",
        "    is_red = data.pop('is_red')\n",
        "    is_red = np.array(is_red)\n",
        "    quality = data.pop('quality')\n",
        "    quality = np.array(quality)\n",
        "    return (quality, is_red)"
      ],
      "metadata": {
        "id": "9RWTTqnIKcSx"
      },
      "execution_count": 17,
      "outputs": []
    },
    {
      "cell_type": "code",
      "source": [
        "# format the output of the train set\n",
        "train_Y = format_output(train)\n",
        "\n",
        "# format the output of the val set\n",
        "val_Y = format_output(val)\n",
        "\n",
        "# format the output of the test set\n",
        "test_Y = format_output(test)"
      ],
      "metadata": {
        "id": "SC1d0UQGKfak"
      },
      "execution_count": 18,
      "outputs": []
    },
    {
      "cell_type": "markdown",
      "source": [
        "**Data Normalization**"
      ],
      "metadata": {
        "id": "nwcnF8bTLMDq"
      }
    },
    {
      "cell_type": "code",
      "source": [
        "def norm(x):\n",
        "    return (x - train_stats['mean']) / train_stats['std']"
      ],
      "metadata": {
        "id": "UlZ3m_gqLF9v"
      },
      "execution_count": 19,
      "outputs": []
    },
    {
      "cell_type": "code",
      "source": [
        "\n",
        "# normalize the train set\n",
        "norm_train_X = norm(train)\n",
        "\n",
        "# normalize the val set\n",
        "norm_val_X = norm(val)\n",
        "\n",
        "# normalize the test set\n",
        "norm_test_X = norm(test)"
      ],
      "metadata": {
        "id": "ESsBTSizLPEK"
      },
      "execution_count": 20,
      "outputs": []
    },
    {
      "cell_type": "markdown",
      "source": [
        "## Define Model\n",
        "\n",
        "Define the model using the functional API. The base model will be 2 `Dense` layers of 128 neurons each, and have the `'relu'` activation."
      ],
      "metadata": {
        "id": "Zo4m0_T6LX-i"
      }
    },
    {
      "cell_type": "code",
      "source": [
        "def base_model(inputs):\n",
        "\n",
        "    # connect a Dense layer with 128 neurons and a relu activation\n",
        "    x = Dense(128, activation='relu')(inputs)\n",
        "\n",
        "    # connect another Dense layer with 128 neurons and a relu activation\n",
        "    x = Dense(128, activation='relu')(x)\n",
        "    return x\n"
      ],
      "metadata": {
        "id": "QqeoZnquLRtC"
      },
      "execution_count": 21,
      "outputs": []
    },
    {
      "cell_type": "markdown",
      "source": [
        "**Define output layers of the model**\n",
        "\n",
        "You will add output layers to the base model.\n",
        "- The model will need two outputs.\n",
        "\n",
        "One output layer will predict wine quality, which is a numeric value.\n",
        "- Define a `Dense` layer with 1 neuron.\n",
        "- Since this is a regression output, the activation can be left as its default value `None`.\n",
        "\n",
        "The other output layer will predict the wine type, which is either red `1` or not red `0` (white).\n",
        "- Define a `Dense` layer with 1 neuron.\n",
        "- Since there are two possible categories, you can use a sigmoid activation for binary classification.\n",
        "\n",
        "Define the `Model`\n",
        "- Define the `Model` object, and set the following parameters:\n",
        "  - `inputs`: pass in the inputs to the model as a list.\n",
        "  - `outputs`: pass in a list of the outputs that you just defined: wine quality, then wine type.\n"
      ],
      "metadata": {
        "id": "1bJW26bBLsC3"
      }
    },
    {
      "cell_type": "code",
      "source": [
        "def final_model(inputs):\n",
        "\n",
        "    # get the base model\n",
        "    x = base_model(inputs)\n",
        "\n",
        "    # connect the output Dense layer for regression\n",
        "    wine_quality = Dense(units='1', name='wine_quality')(x)\n",
        "\n",
        "    # connect the output Dense layer for classification. this will use a sigmoid activation.\n",
        "    wine_type = Dense(units='1', activation='sigmoid', name='wine_type')(x)\n",
        "\n",
        "    # define the model using the input and output layers\n",
        "    model = Model(inputs=inputs, outputs=[wine_quality,wine_type])\n",
        "\n",
        "    return model"
      ],
      "metadata": {
        "id": "6OXB2MUGLhqE"
      },
      "execution_count": 22,
      "outputs": []
    },
    {
      "cell_type": "markdown",
      "source": [
        "**Compiling the Model**\n",
        "\n",
        " When setting the loss parameter of `model.compile`,we set the loss for each of the two outputs (wine quality and wine type).\n",
        "\n",
        "To set more than one loss, we use a dictionary of key-value pairs.\n",
        "\n",
        "\n",
        "- wine_type: Since we will be performing binary classification on wine type, we should use the `binary crossentropy` loss function for it.\n",
        "\n",
        "- wine_quality: since this is a regression output, we use the mean squared error."
      ],
      "metadata": {
        "id": "cdbykQYqMH-2"
      }
    },
    {
      "cell_type": "code",
      "source": [
        "inputs = tf.keras.layers.Input(shape=(11,))\n",
        "rms = tf.keras.optimizers.RMSprop(learning_rate=0.0001)\n",
        "model = final_model(inputs)\n",
        "\n",
        "model.compile(optimizer=rms,\n",
        "              loss = {'wine_type' : 'binary_crossentropy',\n",
        "                      'wine_quality' : 'mean_squared_error'\n",
        "                     },\n",
        "              metrics = {'wine_type' : 'accuracy',\n",
        "                         'wine_quality':  tf.keras.metrics.RootMeanSquaredError()\n",
        "                       }\n",
        "             )"
      ],
      "metadata": {
        "id": "d52O9g6jL8_H"
      },
      "execution_count": 24,
      "outputs": []
    },
    {
      "cell_type": "markdown",
      "source": [
        "## Train Model"
      ],
      "metadata": {
        "id": "e2Yf_we8M5B0"
      }
    },
    {
      "cell_type": "code",
      "source": [
        "\n",
        "history = model.fit(norm_train_X, train_Y,\n",
        "                    epochs = 50, validation_data=(norm_val_X, val_Y))"
      ],
      "metadata": {
        "colab": {
          "base_uri": "https://localhost:8080/"
        },
        "id": "oSpkGu6rMxLL",
        "outputId": "5943e52c-be02-4e2e-d571-33c7663cee3d"
      },
      "execution_count": 26,
      "outputs": [
        {
          "output_type": "stream",
          "name": "stdout",
          "text": [
            "Epoch 1/50\n",
            "99/99 [==============================] - 1s 6ms/step - loss: 4.4713 - wine_quality_loss: 3.8361 - wine_type_loss: 0.6351 - wine_quality_root_mean_squared_error: 1.9586 - wine_type_accuracy: 0.6872 - val_loss: 3.1894 - val_wine_quality_loss: 2.6257 - val_wine_type_loss: 0.5638 - val_wine_quality_root_mean_squared_error: 1.6204 - val_wine_type_accuracy: 0.8238\n",
            "Epoch 2/50\n",
            "99/99 [==============================] - 1s 7ms/step - loss: 2.8655 - wine_quality_loss: 2.3780 - wine_type_loss: 0.4875 - wine_quality_root_mean_squared_error: 1.5421 - wine_type_accuracy: 0.8345 - val_loss: 2.5268 - val_wine_quality_loss: 2.1014 - val_wine_type_loss: 0.4254 - val_wine_quality_root_mean_squared_error: 1.4496 - val_wine_type_accuracy: 0.8441\n",
            "Epoch 3/50\n",
            "99/99 [==============================] - 0s 3ms/step - loss: 2.3585 - wine_quality_loss: 1.9877 - wine_type_loss: 0.3708 - wine_quality_root_mean_squared_error: 1.4098 - wine_type_accuracy: 0.8929 - val_loss: 2.1502 - val_wine_quality_loss: 1.8232 - val_wine_type_loss: 0.3270 - val_wine_quality_root_mean_squared_error: 1.3503 - val_wine_type_accuracy: 0.9163\n",
            "Epoch 4/50\n",
            "99/99 [==============================] - 0s 3ms/step - loss: 2.0314 - wine_quality_loss: 1.7454 - wine_type_loss: 0.2859 - wine_quality_root_mean_squared_error: 1.3212 - wine_type_accuracy: 0.9563 - val_loss: 1.9085 - val_wine_quality_loss: 1.6556 - val_wine_type_loss: 0.2529 - val_wine_quality_root_mean_squared_error: 1.2867 - val_wine_type_accuracy: 0.9607\n",
            "Epoch 5/50\n",
            "99/99 [==============================] - 0s 3ms/step - loss: 1.8033 - wine_quality_loss: 1.5823 - wine_type_loss: 0.2209 - wine_quality_root_mean_squared_error: 1.2579 - wine_type_accuracy: 0.9765 - val_loss: 1.7231 - val_wine_quality_loss: 1.5292 - val_wine_type_loss: 0.1939 - val_wine_quality_root_mean_squared_error: 1.2366 - val_wine_type_accuracy: 0.9823\n",
            "Epoch 6/50\n",
            "99/99 [==============================] - 0s 3ms/step - loss: 1.6297 - wine_quality_loss: 1.4575 - wine_type_loss: 0.1722 - wine_quality_root_mean_squared_error: 1.2073 - wine_type_accuracy: 0.9838 - val_loss: 1.5709 - val_wine_quality_loss: 1.4191 - val_wine_type_loss: 0.1518 - val_wine_quality_root_mean_squared_error: 1.1913 - val_wine_type_accuracy: 0.9873\n",
            "Epoch 7/50\n",
            "99/99 [==============================] - 0s 3ms/step - loss: 1.4905 - wine_quality_loss: 1.3538 - wine_type_loss: 0.1368 - wine_quality_root_mean_squared_error: 1.1635 - wine_type_accuracy: 0.9873 - val_loss: 1.4561 - val_wine_quality_loss: 1.3345 - val_wine_type_loss: 0.1216 - val_wine_quality_root_mean_squared_error: 1.1552 - val_wine_type_accuracy: 0.9886\n",
            "Epoch 8/50\n",
            "99/99 [==============================] - 0s 3ms/step - loss: 1.3766 - wine_quality_loss: 1.2655 - wine_type_loss: 0.1112 - wine_quality_root_mean_squared_error: 1.1249 - wine_type_accuracy: 0.9886 - val_loss: 1.3618 - val_wine_quality_loss: 1.2615 - val_wine_type_loss: 0.1003 - val_wine_quality_root_mean_squared_error: 1.1232 - val_wine_type_accuracy: 0.9899\n",
            "Epoch 9/50\n",
            "99/99 [==============================] - 0s 3ms/step - loss: 1.2766 - wine_quality_loss: 1.1829 - wine_type_loss: 0.0937 - wine_quality_root_mean_squared_error: 1.0876 - wine_type_accuracy: 0.9892 - val_loss: 1.2703 - val_wine_quality_loss: 1.1853 - val_wine_type_loss: 0.0849 - val_wine_quality_root_mean_squared_error: 1.0887 - val_wine_type_accuracy: 0.9899\n",
            "Epoch 10/50\n",
            "99/99 [==============================] - 0s 3ms/step - loss: 1.1926 - wine_quality_loss: 1.1118 - wine_type_loss: 0.0809 - wine_quality_root_mean_squared_error: 1.0544 - wine_type_accuracy: 0.9902 - val_loss: 1.2089 - val_wine_quality_loss: 1.1347 - val_wine_type_loss: 0.0742 - val_wine_quality_root_mean_squared_error: 1.0652 - val_wine_type_accuracy: 0.9911\n",
            "Epoch 11/50\n",
            "99/99 [==============================] - 0s 3ms/step - loss: 1.1203 - wine_quality_loss: 1.0486 - wine_type_loss: 0.0717 - wine_quality_root_mean_squared_error: 1.0240 - wine_type_accuracy: 0.9905 - val_loss: 1.1358 - val_wine_quality_loss: 1.0695 - val_wine_type_loss: 0.0663 - val_wine_quality_root_mean_squared_error: 1.0342 - val_wine_type_accuracy: 0.9911\n",
            "Epoch 12/50\n",
            "99/99 [==============================] - 0s 3ms/step - loss: 1.0524 - wine_quality_loss: 0.9876 - wine_type_loss: 0.0648 - wine_quality_root_mean_squared_error: 0.9938 - wine_type_accuracy: 0.9905 - val_loss: 1.0802 - val_wine_quality_loss: 1.0201 - val_wine_type_loss: 0.0600 - val_wine_quality_root_mean_squared_error: 1.0100 - val_wine_type_accuracy: 0.9911\n",
            "Epoch 13/50\n",
            "99/99 [==============================] - 0s 3ms/step - loss: 0.9935 - wine_quality_loss: 0.9340 - wine_type_loss: 0.0595 - wine_quality_root_mean_squared_error: 0.9664 - wine_type_accuracy: 0.9905 - val_loss: 1.0207 - val_wine_quality_loss: 0.9653 - val_wine_type_loss: 0.0554 - val_wine_quality_root_mean_squared_error: 0.9825 - val_wine_type_accuracy: 0.9911\n",
            "Epoch 14/50\n",
            "99/99 [==============================] - 0s 3ms/step - loss: 0.9373 - wine_quality_loss: 0.8820 - wine_type_loss: 0.0553 - wine_quality_root_mean_squared_error: 0.9392 - wine_type_accuracy: 0.9908 - val_loss: 0.9729 - val_wine_quality_loss: 0.9214 - val_wine_type_loss: 0.0515 - val_wine_quality_root_mean_squared_error: 0.9599 - val_wine_type_accuracy: 0.9911\n",
            "Epoch 15/50\n",
            "99/99 [==============================] - 0s 5ms/step - loss: 0.8877 - wine_quality_loss: 0.8357 - wine_type_loss: 0.0520 - wine_quality_root_mean_squared_error: 0.9142 - wine_type_accuracy: 0.9908 - val_loss: 0.9272 - val_wine_quality_loss: 0.8787 - val_wine_type_loss: 0.0485 - val_wine_quality_root_mean_squared_error: 0.9374 - val_wine_type_accuracy: 0.9924\n",
            "Epoch 16/50\n",
            "99/99 [==============================] - 0s 4ms/step - loss: 0.8390 - wine_quality_loss: 0.7898 - wine_type_loss: 0.0492 - wine_quality_root_mean_squared_error: 0.8887 - wine_type_accuracy: 0.9908 - val_loss: 0.8796 - val_wine_quality_loss: 0.8334 - val_wine_type_loss: 0.0462 - val_wine_quality_root_mean_squared_error: 0.9129 - val_wine_type_accuracy: 0.9924\n",
            "Epoch 17/50\n",
            "99/99 [==============================] - 0s 5ms/step - loss: 0.7934 - wine_quality_loss: 0.7462 - wine_type_loss: 0.0471 - wine_quality_root_mean_squared_error: 0.8639 - wine_type_accuracy: 0.9911 - val_loss: 0.8386 - val_wine_quality_loss: 0.7944 - val_wine_type_loss: 0.0442 - val_wine_quality_root_mean_squared_error: 0.8913 - val_wine_type_accuracy: 0.9924\n",
            "Epoch 18/50\n",
            "99/99 [==============================] - 0s 4ms/step - loss: 0.7520 - wine_quality_loss: 0.7067 - wine_type_loss: 0.0454 - wine_quality_root_mean_squared_error: 0.8406 - wine_type_accuracy: 0.9911 - val_loss: 0.7990 - val_wine_quality_loss: 0.7564 - val_wine_type_loss: 0.0426 - val_wine_quality_root_mean_squared_error: 0.8697 - val_wine_type_accuracy: 0.9924\n",
            "Epoch 19/50\n",
            "99/99 [==============================] - 0s 5ms/step - loss: 0.7132 - wine_quality_loss: 0.6694 - wine_type_loss: 0.0438 - wine_quality_root_mean_squared_error: 0.8182 - wine_type_accuracy: 0.9914 - val_loss: 0.7607 - val_wine_quality_loss: 0.7196 - val_wine_type_loss: 0.0411 - val_wine_quality_root_mean_squared_error: 0.8483 - val_wine_type_accuracy: 0.9924\n",
            "Epoch 20/50\n",
            "99/99 [==============================] - 0s 5ms/step - loss: 0.6781 - wine_quality_loss: 0.6356 - wine_type_loss: 0.0425 - wine_quality_root_mean_squared_error: 0.7973 - wine_type_accuracy: 0.9918 - val_loss: 0.7193 - val_wine_quality_loss: 0.6793 - val_wine_type_loss: 0.0400 - val_wine_quality_root_mean_squared_error: 0.8242 - val_wine_type_accuracy: 0.9924\n",
            "Epoch 21/50\n",
            "99/99 [==============================] - 0s 4ms/step - loss: 0.6428 - wine_quality_loss: 0.6014 - wine_type_loss: 0.0414 - wine_quality_root_mean_squared_error: 0.7755 - wine_type_accuracy: 0.9914 - val_loss: 0.6890 - val_wine_quality_loss: 0.6500 - val_wine_type_loss: 0.0390 - val_wine_quality_root_mean_squared_error: 0.8062 - val_wine_type_accuracy: 0.9924\n",
            "Epoch 22/50\n",
            "99/99 [==============================] - 0s 3ms/step - loss: 0.6142 - wine_quality_loss: 0.5739 - wine_type_loss: 0.0404 - wine_quality_root_mean_squared_error: 0.7575 - wine_type_accuracy: 0.9918 - val_loss: 0.6617 - val_wine_quality_loss: 0.6235 - val_wine_type_loss: 0.0382 - val_wine_quality_root_mean_squared_error: 0.7896 - val_wine_type_accuracy: 0.9924\n",
            "Epoch 23/50\n",
            "99/99 [==============================] - 0s 3ms/step - loss: 0.5865 - wine_quality_loss: 0.5469 - wine_type_loss: 0.0396 - wine_quality_root_mean_squared_error: 0.7395 - wine_type_accuracy: 0.9918 - val_loss: 0.6328 - val_wine_quality_loss: 0.5953 - val_wine_type_loss: 0.0375 - val_wine_quality_root_mean_squared_error: 0.7716 - val_wine_type_accuracy: 0.9924\n",
            "Epoch 24/50\n",
            "99/99 [==============================] - 0s 3ms/step - loss: 0.5628 - wine_quality_loss: 0.5239 - wine_type_loss: 0.0389 - wine_quality_root_mean_squared_error: 0.7238 - wine_type_accuracy: 0.9918 - val_loss: 0.6083 - val_wine_quality_loss: 0.5714 - val_wine_type_loss: 0.0369 - val_wine_quality_root_mean_squared_error: 0.7559 - val_wine_type_accuracy: 0.9924\n",
            "Epoch 25/50\n",
            "99/99 [==============================] - 0s 3ms/step - loss: 0.5403 - wine_quality_loss: 0.5021 - wine_type_loss: 0.0382 - wine_quality_root_mean_squared_error: 0.7086 - wine_type_accuracy: 0.9918 - val_loss: 0.5874 - val_wine_quality_loss: 0.5511 - val_wine_type_loss: 0.0363 - val_wine_quality_root_mean_squared_error: 0.7424 - val_wine_type_accuracy: 0.9924\n",
            "Epoch 26/50\n",
            "99/99 [==============================] - 0s 3ms/step - loss: 0.5212 - wine_quality_loss: 0.4836 - wine_type_loss: 0.0376 - wine_quality_root_mean_squared_error: 0.6954 - wine_type_accuracy: 0.9924 - val_loss: 0.5735 - val_wine_quality_loss: 0.5375 - val_wine_type_loss: 0.0360 - val_wine_quality_root_mean_squared_error: 0.7332 - val_wine_type_accuracy: 0.9924\n",
            "Epoch 27/50\n",
            "99/99 [==============================] - 0s 3ms/step - loss: 0.5015 - wine_quality_loss: 0.4645 - wine_type_loss: 0.0371 - wine_quality_root_mean_squared_error: 0.6815 - wine_type_accuracy: 0.9924 - val_loss: 0.5468 - val_wine_quality_loss: 0.5113 - val_wine_type_loss: 0.0354 - val_wine_quality_root_mean_squared_error: 0.7151 - val_wine_type_accuracy: 0.9924\n",
            "Epoch 28/50\n",
            "99/99 [==============================] - 0s 3ms/step - loss: 0.4865 - wine_quality_loss: 0.4500 - wine_type_loss: 0.0365 - wine_quality_root_mean_squared_error: 0.6708 - wine_type_accuracy: 0.9924 - val_loss: 0.5378 - val_wine_quality_loss: 0.5027 - val_wine_type_loss: 0.0351 - val_wine_quality_root_mean_squared_error: 0.7090 - val_wine_type_accuracy: 0.9924\n",
            "Epoch 29/50\n",
            "99/99 [==============================] - 0s 3ms/step - loss: 0.4717 - wine_quality_loss: 0.4357 - wine_type_loss: 0.0360 - wine_quality_root_mean_squared_error: 0.6601 - wine_type_accuracy: 0.9924 - val_loss: 0.5205 - val_wine_quality_loss: 0.4858 - val_wine_type_loss: 0.0347 - val_wine_quality_root_mean_squared_error: 0.6970 - val_wine_type_accuracy: 0.9924\n",
            "Epoch 30/50\n",
            "99/99 [==============================] - 0s 3ms/step - loss: 0.4595 - wine_quality_loss: 0.4239 - wine_type_loss: 0.0357 - wine_quality_root_mean_squared_error: 0.6510 - wine_type_accuracy: 0.9924 - val_loss: 0.5061 - val_wine_quality_loss: 0.4717 - val_wine_type_loss: 0.0344 - val_wine_quality_root_mean_squared_error: 0.6868 - val_wine_type_accuracy: 0.9937\n",
            "Epoch 31/50\n",
            "99/99 [==============================] - 0s 3ms/step - loss: 0.4466 - wine_quality_loss: 0.4114 - wine_type_loss: 0.0352 - wine_quality_root_mean_squared_error: 0.6414 - wine_type_accuracy: 0.9930 - val_loss: 0.4930 - val_wine_quality_loss: 0.4591 - val_wine_type_loss: 0.0340 - val_wine_quality_root_mean_squared_error: 0.6776 - val_wine_type_accuracy: 0.9937\n",
            "Epoch 32/50\n",
            "99/99 [==============================] - 0s 3ms/step - loss: 0.4379 - wine_quality_loss: 0.4030 - wine_type_loss: 0.0349 - wine_quality_root_mean_squared_error: 0.6349 - wine_type_accuracy: 0.9933 - val_loss: 0.4805 - val_wine_quality_loss: 0.4467 - val_wine_type_loss: 0.0337 - val_wine_quality_root_mean_squared_error: 0.6684 - val_wine_type_accuracy: 0.9937\n",
            "Epoch 33/50\n",
            "99/99 [==============================] - 0s 3ms/step - loss: 0.4289 - wine_quality_loss: 0.3944 - wine_type_loss: 0.0345 - wine_quality_root_mean_squared_error: 0.6280 - wine_type_accuracy: 0.9930 - val_loss: 0.4786 - val_wine_quality_loss: 0.4451 - val_wine_type_loss: 0.0336 - val_wine_quality_root_mean_squared_error: 0.6671 - val_wine_type_accuracy: 0.9937\n",
            "Epoch 34/50\n",
            "99/99 [==============================] - 0s 3ms/step - loss: 0.4207 - wine_quality_loss: 0.3865 - wine_type_loss: 0.0341 - wine_quality_root_mean_squared_error: 0.6217 - wine_type_accuracy: 0.9930 - val_loss: 0.4634 - val_wine_quality_loss: 0.4299 - val_wine_type_loss: 0.0334 - val_wine_quality_root_mean_squared_error: 0.6557 - val_wine_type_accuracy: 0.9937\n",
            "Epoch 35/50\n",
            "99/99 [==============================] - 0s 3ms/step - loss: 0.4118 - wine_quality_loss: 0.3780 - wine_type_loss: 0.0338 - wine_quality_root_mean_squared_error: 0.6148 - wine_type_accuracy: 0.9933 - val_loss: 0.4635 - val_wine_quality_loss: 0.4303 - val_wine_type_loss: 0.0332 - val_wine_quality_root_mean_squared_error: 0.6560 - val_wine_type_accuracy: 0.9937\n",
            "Epoch 36/50\n",
            "99/99 [==============================] - 0s 3ms/step - loss: 0.4061 - wine_quality_loss: 0.3725 - wine_type_loss: 0.0336 - wine_quality_root_mean_squared_error: 0.6104 - wine_type_accuracy: 0.9937 - val_loss: 0.4476 - val_wine_quality_loss: 0.4147 - val_wine_type_loss: 0.0329 - val_wine_quality_root_mean_squared_error: 0.6440 - val_wine_type_accuracy: 0.9937\n",
            "Epoch 37/50\n",
            "99/99 [==============================] - 0s 3ms/step - loss: 0.4006 - wine_quality_loss: 0.3674 - wine_type_loss: 0.0332 - wine_quality_root_mean_squared_error: 0.6062 - wine_type_accuracy: 0.9937 - val_loss: 0.4393 - val_wine_quality_loss: 0.4065 - val_wine_type_loss: 0.0328 - val_wine_quality_root_mean_squared_error: 0.6375 - val_wine_type_accuracy: 0.9937\n",
            "Epoch 38/50\n",
            "99/99 [==============================] - 0s 3ms/step - loss: 0.3939 - wine_quality_loss: 0.3611 - wine_type_loss: 0.0328 - wine_quality_root_mean_squared_error: 0.6009 - wine_type_accuracy: 0.9940 - val_loss: 0.4340 - val_wine_quality_loss: 0.4014 - val_wine_type_loss: 0.0326 - val_wine_quality_root_mean_squared_error: 0.6336 - val_wine_type_accuracy: 0.9937\n",
            "Epoch 39/50\n",
            "99/99 [==============================] - 0s 3ms/step - loss: 0.3891 - wine_quality_loss: 0.3565 - wine_type_loss: 0.0326 - wine_quality_root_mean_squared_error: 0.5971 - wine_type_accuracy: 0.9943 - val_loss: 0.4423 - val_wine_quality_loss: 0.4099 - val_wine_type_loss: 0.0324 - val_wine_quality_root_mean_squared_error: 0.6402 - val_wine_type_accuracy: 0.9937\n",
            "Epoch 40/50\n",
            "99/99 [==============================] - 0s 3ms/step - loss: 0.3847 - wine_quality_loss: 0.3523 - wine_type_loss: 0.0324 - wine_quality_root_mean_squared_error: 0.5935 - wine_type_accuracy: 0.9943 - val_loss: 0.4256 - val_wine_quality_loss: 0.3934 - val_wine_type_loss: 0.0322 - val_wine_quality_root_mean_squared_error: 0.6272 - val_wine_type_accuracy: 0.9937\n",
            "Epoch 41/50\n",
            "99/99 [==============================] - 0s 3ms/step - loss: 0.3810 - wine_quality_loss: 0.3489 - wine_type_loss: 0.0321 - wine_quality_root_mean_squared_error: 0.5907 - wine_type_accuracy: 0.9943 - val_loss: 0.4239 - val_wine_quality_loss: 0.3917 - val_wine_type_loss: 0.0321 - val_wine_quality_root_mean_squared_error: 0.6259 - val_wine_type_accuracy: 0.9937\n",
            "Epoch 42/50\n",
            "99/99 [==============================] - 0s 3ms/step - loss: 0.3763 - wine_quality_loss: 0.3445 - wine_type_loss: 0.0318 - wine_quality_root_mean_squared_error: 0.5869 - wine_type_accuracy: 0.9943 - val_loss: 0.4210 - val_wine_quality_loss: 0.3889 - val_wine_type_loss: 0.0320 - val_wine_quality_root_mean_squared_error: 0.6236 - val_wine_type_accuracy: 0.9937\n",
            "Epoch 43/50\n",
            "99/99 [==============================] - 0s 3ms/step - loss: 0.3729 - wine_quality_loss: 0.3413 - wine_type_loss: 0.0316 - wine_quality_root_mean_squared_error: 0.5842 - wine_type_accuracy: 0.9943 - val_loss: 0.4180 - val_wine_quality_loss: 0.3862 - val_wine_type_loss: 0.0318 - val_wine_quality_root_mean_squared_error: 0.6215 - val_wine_type_accuracy: 0.9937\n",
            "Epoch 44/50\n",
            "99/99 [==============================] - 0s 3ms/step - loss: 0.3692 - wine_quality_loss: 0.3378 - wine_type_loss: 0.0313 - wine_quality_root_mean_squared_error: 0.5812 - wine_type_accuracy: 0.9943 - val_loss: 0.4111 - val_wine_quality_loss: 0.3795 - val_wine_type_loss: 0.0316 - val_wine_quality_root_mean_squared_error: 0.6160 - val_wine_type_accuracy: 0.9937\n",
            "Epoch 45/50\n",
            "99/99 [==============================] - 0s 3ms/step - loss: 0.3673 - wine_quality_loss: 0.3361 - wine_type_loss: 0.0312 - wine_quality_root_mean_squared_error: 0.5798 - wine_type_accuracy: 0.9946 - val_loss: 0.4067 - val_wine_quality_loss: 0.3752 - val_wine_type_loss: 0.0315 - val_wine_quality_root_mean_squared_error: 0.6125 - val_wine_type_accuracy: 0.9937\n",
            "Epoch 46/50\n",
            "99/99 [==============================] - 0s 3ms/step - loss: 0.3637 - wine_quality_loss: 0.3328 - wine_type_loss: 0.0309 - wine_quality_root_mean_squared_error: 0.5769 - wine_type_accuracy: 0.9946 - val_loss: 0.4060 - val_wine_quality_loss: 0.3745 - val_wine_type_loss: 0.0315 - val_wine_quality_root_mean_squared_error: 0.6120 - val_wine_type_accuracy: 0.9937\n",
            "Epoch 47/50\n",
            "99/99 [==============================] - 0s 3ms/step - loss: 0.3609 - wine_quality_loss: 0.3302 - wine_type_loss: 0.0307 - wine_quality_root_mean_squared_error: 0.5746 - wine_type_accuracy: 0.9946 - val_loss: 0.4025 - val_wine_quality_loss: 0.3714 - val_wine_type_loss: 0.0312 - val_wine_quality_root_mean_squared_error: 0.6094 - val_wine_type_accuracy: 0.9937\n",
            "Epoch 48/50\n",
            "99/99 [==============================] - 0s 3ms/step - loss: 0.3586 - wine_quality_loss: 0.3282 - wine_type_loss: 0.0305 - wine_quality_root_mean_squared_error: 0.5729 - wine_type_accuracy: 0.9946 - val_loss: 0.4009 - val_wine_quality_loss: 0.3698 - val_wine_type_loss: 0.0311 - val_wine_quality_root_mean_squared_error: 0.6081 - val_wine_type_accuracy: 0.9937\n",
            "Epoch 49/50\n",
            "99/99 [==============================] - 0s 3ms/step - loss: 0.3566 - wine_quality_loss: 0.3264 - wine_type_loss: 0.0302 - wine_quality_root_mean_squared_error: 0.5713 - wine_type_accuracy: 0.9946 - val_loss: 0.3978 - val_wine_quality_loss: 0.3669 - val_wine_type_loss: 0.0309 - val_wine_quality_root_mean_squared_error: 0.6058 - val_wine_type_accuracy: 0.9937\n",
            "Epoch 50/50\n",
            "99/99 [==============================] - 0s 3ms/step - loss: 0.3535 - wine_quality_loss: 0.3235 - wine_type_loss: 0.0301 - wine_quality_root_mean_squared_error: 0.5688 - wine_type_accuracy: 0.9949 - val_loss: 0.3994 - val_wine_quality_loss: 0.3684 - val_wine_type_loss: 0.0310 - val_wine_quality_root_mean_squared_error: 0.6069 - val_wine_type_accuracy: 0.9937\n"
          ]
        }
      ]
    },
    {
      "cell_type": "code",
      "source": [
        "loss, wine_quality_loss, wine_type_loss, wine_quality_rmse, wine_type_accuracy = model.evaluate(x=norm_val_X, y=val_Y)\n",
        "\n",
        "print()\n",
        "print(f'loss: {loss}')\n",
        "print(f'wine_quality_loss: {wine_quality_loss}')\n",
        "print(f'wine_type_loss: {wine_type_loss}')\n",
        "print(f'wine_quality_rmse: {wine_quality_rmse}')\n",
        "print(f'wine_type_accuracy: {wine_type_accuracy}')"
      ],
      "metadata": {
        "colab": {
          "base_uri": "https://localhost:8080/"
        },
        "id": "RjJXsVoFM8sy",
        "outputId": "0b568f01-e2f1-4883-de89-3781444ed3fd"
      },
      "execution_count": 27,
      "outputs": [
        {
          "output_type": "stream",
          "name": "stdout",
          "text": [
            "25/25 [==============================] - 0s 3ms/step - loss: 0.3994 - wine_quality_loss: 0.3684 - wine_type_loss: 0.0310 - wine_quality_root_mean_squared_error: 0.6069 - wine_type_accuracy: 0.9937\n",
            "\n",
            "loss: 0.3993673026561737\n",
            "wine_quality_loss: 0.36837640404701233\n",
            "wine_type_loss: 0.03099079802632332\n",
            "wine_quality_rmse: 0.6069402098655701\n",
            "wine_type_accuracy: 0.9936628937721252\n"
          ]
        }
      ]
    },
    {
      "cell_type": "code",
      "source": [
        "predictions = model.predict(norm_test_X)\n",
        "quality_pred = predictions[0]\n",
        "type_pred = predictions[1]"
      ],
      "metadata": {
        "colab": {
          "base_uri": "https://localhost:8080/"
        },
        "id": "PJQ6P1hMNKo7",
        "outputId": "7b20a991-56b8-4d54-b8c6-5806d7d47443"
      },
      "execution_count": 28,
      "outputs": [
        {
          "output_type": "stream",
          "name": "stdout",
          "text": [
            "31/31 [==============================] - 0s 4ms/step\n"
          ]
        }
      ]
    },
    {
      "cell_type": "code",
      "source": [
        "print(quality_pred[0])\n",
        "print(type_pred[0])"
      ],
      "metadata": {
        "colab": {
          "base_uri": "https://localhost:8080/"
        },
        "id": "IgV8QrYaNT6c",
        "outputId": "7e6d71a0-b05b-46b6-cfcb-00c5885a2171"
      },
      "execution_count": 29,
      "outputs": [
        {
          "output_type": "stream",
          "name": "stdout",
          "text": [
            "[5.2184267]\n",
            "[0.00214638]\n"
          ]
        }
      ]
    },
    {
      "cell_type": "markdown",
      "source": [
        "## Plot Results"
      ],
      "metadata": {
        "id": "rgBb0pZPNfS9"
      }
    },
    {
      "cell_type": "code",
      "source": [
        "def plot_metrics(metric_name, title, ylim=5):\n",
        "    plt.title(title)\n",
        "    plt.ylim(0,ylim)\n",
        "    plt.plot(history.history[metric_name],color='blue',label=metric_name)\n",
        "    plt.plot(history.history['val_' + metric_name],color='green',label='val_' + metric_name)\n",
        "\n",
        "\n",
        "def plot_confusion_matrix(y_true, y_pred, title='', labels=[0,1]):\n",
        "    cm = confusion_matrix(test_Y[1], np.round(type_pred), labels=[0, 1])\n",
        "    disp = ConfusionMatrixDisplay(confusion_matrix=cm,\n",
        "                                  display_labels=[0, 1])\n",
        "    disp.plot(values_format='d');\n",
        "\n",
        "def plot_diff(y_true, y_pred, title = '' ):\n",
        "    plt.scatter(y_true, y_pred)\n",
        "    plt.title(title)\n",
        "    plt.xlabel('True Values')\n",
        "    plt.ylabel('Predictions')\n",
        "    plt.axis('equal')\n",
        "    plt.axis('square')\n",
        "    plt.plot([-100, 100], [-100, 100])\n",
        "    return plt"
      ],
      "metadata": {
        "id": "RDs2odR6Ngoi"
      },
      "execution_count": 30,
      "outputs": []
    },
    {
      "cell_type": "code",
      "source": [
        "plot_metrics('wine_quality_root_mean_squared_error', 'RMSE', ylim=2)"
      ],
      "metadata": {
        "colab": {
          "base_uri": "https://localhost:8080/",
          "height": 452
        },
        "id": "hO7coo4qNomV",
        "outputId": "64ac7107-42d6-446a-c568-55ad782d9d16"
      },
      "execution_count": 31,
      "outputs": [
        {
          "output_type": "display_data",
          "data": {
            "text/plain": [
              "<Figure size 640x480 with 1 Axes>"
            ],
            "image/png": "[encoded data removed]"
          },
          "metadata": {}
        }
      ]
    },
    {
      "cell_type": "code",
      "source": [
        "plot_metrics('wine_type_loss', 'Wine Type Loss', ylim=0.2)"
      ],
      "metadata": {
        "colab": {
          "base_uri": "https://localhost:8080/",
          "height": 452
        },
        "id": "32IawIRDNo7U",
        "outputId": "e92eeff9-834e-4891-8e83-dccea46dfefa"
      },
      "execution_count": 32,
      "outputs": [
        {
          "output_type": "display_data",
          "data": {
            "text/plain": [
              "<Figure size 640x480 with 1 Axes>"
            ],
            "image/png": "[encoded data removed]"
          },
          "metadata": {}
        }
      ]
    },
    {
      "cell_type": "code",
      "source": [
        "# Plot the confusion matrices for wine type\n",
        "plot_confusion_matrix(test_Y[1], np.round(type_pred), title='Wine Type', labels = [0, 1])"
      ],
      "metadata": {
        "colab": {
          "base_uri": "https://localhost:8080/",
          "height": 449
        },
        "id": "OGfGIKYANqxE",
        "outputId": "82d28316-2f0e-4e81-a871-d65c2025ccb8"
      },
      "execution_count": 33,
      "outputs": [
        {
          "output_type": "display_data",
          "data": {
            "text/plain": [
              "<Figure size 640x480 with 2 Axes>"
            ],
            "image/png": "[encoded data removed]"
          },
          "metadata": {}
        }
      ]
    },
    {
      "cell_type": "markdown",
      "source": [
        "### Refrences\n",
        "\n",
        "[Custom and Distributed Training with TensorFlow | Coursera](https://www.coursera.org/learn/custom-distributed-training-with-tensorflow)"
      ],
      "metadata": {
        "id": "T7_FPkbsN4XV"
      }
    }
  ]
}